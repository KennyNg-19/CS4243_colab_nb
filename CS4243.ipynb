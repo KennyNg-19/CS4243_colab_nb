{
  "nbformat": 4,
  "nbformat_minor": 0,
  "metadata": {
    "colab": {
      "provenance": [],
      "collapsed_sections": [
        "TYWVHsAZcB3X",
        "S2Q7xtQM3iHc"
      ],
      "toc_visible": true,
      "include_colab_link": true
    },
    "kernelspec": {
      "name": "python3",
      "display_name": "Python 3"
    },
    "language_info": {
      "name": "python"
    },
    "widgets": {
      "application/vnd.jupyter.widget-state+json": {
        "30059e7f76554edeaebfde0ed47cb22d": {
          "model_module": "@jupyter-widgets/controls",
          "model_name": "HBoxModel",
          "model_module_version": "1.5.0",
          "state": {
            "_dom_classes": [],
            "_model_module": "@jupyter-widgets/controls",
            "_model_module_version": "1.5.0",
            "_model_name": "HBoxModel",
            "_view_count": null,
            "_view_module": "@jupyter-widgets/controls",
            "_view_module_version": "1.5.0",
            "_view_name": "HBoxView",
            "box_style": "",
            "children": [
              "IPY_MODEL_0f32b89aee684497aeda207ea4168afb",
              "IPY_MODEL_51ed36da4009415eb75ea2e10b540dfc",
              "IPY_MODEL_74fdfbff676e4c3c830f45592759cc47"
            ],
            "layout": "IPY_MODEL_582f0ee5e71a49aba6e4cf92e4fa5159"
          }
        },
        "0f32b89aee684497aeda207ea4168afb": {
          "model_module": "@jupyter-widgets/controls",
          "model_name": "HTMLModel",
          "model_module_version": "1.5.0",
          "state": {
            "_dom_classes": [],
            "_model_module": "@jupyter-widgets/controls",
            "_model_module_version": "1.5.0",
            "_model_name": "HTMLModel",
            "_view_count": null,
            "_view_module": "@jupyter-widgets/controls",
            "_view_module_version": "1.5.0",
            "_view_name": "HTMLView",
            "description": "",
            "description_tooltip": null,
            "layout": "IPY_MODEL_a217e1bf7c1144449e17af9deb1be2b3",
            "placeholder": "​",
            "style": "IPY_MODEL_94dd1f666dfb401c972d62063d271db8",
            "value": "100%"
          }
        },
        "51ed36da4009415eb75ea2e10b540dfc": {
          "model_module": "@jupyter-widgets/controls",
          "model_name": "FloatProgressModel",
          "model_module_version": "1.5.0",
          "state": {
            "_dom_classes": [],
            "_model_module": "@jupyter-widgets/controls",
            "_model_module_version": "1.5.0",
            "_model_name": "FloatProgressModel",
            "_view_count": null,
            "_view_module": "@jupyter-widgets/controls",
            "_view_module_version": "1.5.0",
            "_view_name": "ProgressView",
            "bar_style": "success",
            "description": "",
            "description_tooltip": null,
            "layout": "IPY_MODEL_c35923bf34be437cb4057856dd450651",
            "max": 46830571,
            "min": 0,
            "orientation": "horizontal",
            "style": "IPY_MODEL_eebff500f8174452a20b5f7afbaae825",
            "value": 46830571
          }
        },
        "74fdfbff676e4c3c830f45592759cc47": {
          "model_module": "@jupyter-widgets/controls",
          "model_name": "HTMLModel",
          "model_module_version": "1.5.0",
          "state": {
            "_dom_classes": [],
            "_model_module": "@jupyter-widgets/controls",
            "_model_module_version": "1.5.0",
            "_model_name": "HTMLModel",
            "_view_count": null,
            "_view_module": "@jupyter-widgets/controls",
            "_view_module_version": "1.5.0",
            "_view_name": "HTMLView",
            "description": "",
            "description_tooltip": null,
            "layout": "IPY_MODEL_56fd522c16f5433ca34dc92971b713d5",
            "placeholder": "​",
            "style": "IPY_MODEL_9d624b2e9ea14d87ad56380ba0f6b9c6",
            "value": " 44.7M/44.7M [00:00&lt;00:00, 152MB/s]"
          }
        },
        "582f0ee5e71a49aba6e4cf92e4fa5159": {
          "model_module": "@jupyter-widgets/base",
          "model_name": "LayoutModel",
          "model_module_version": "1.2.0",
          "state": {
            "_model_module": "@jupyter-widgets/base",
            "_model_module_version": "1.2.0",
            "_model_name": "LayoutModel",
            "_view_count": null,
            "_view_module": "@jupyter-widgets/base",
            "_view_module_version": "1.2.0",
            "_view_name": "LayoutView",
            "align_content": null,
            "align_items": null,
            "align_self": null,
            "border": null,
            "bottom": null,
            "display": null,
            "flex": null,
            "flex_flow": null,
            "grid_area": null,
            "grid_auto_columns": null,
            "grid_auto_flow": null,
            "grid_auto_rows": null,
            "grid_column": null,
            "grid_gap": null,
            "grid_row": null,
            "grid_template_areas": null,
            "grid_template_columns": null,
            "grid_template_rows": null,
            "height": null,
            "justify_content": null,
            "justify_items": null,
            "left": null,
            "margin": null,
            "max_height": null,
            "max_width": null,
            "min_height": null,
            "min_width": null,
            "object_fit": null,
            "object_position": null,
            "order": null,
            "overflow": null,
            "overflow_x": null,
            "overflow_y": null,
            "padding": null,
            "right": null,
            "top": null,
            "visibility": null,
            "width": null
          }
        },
        "a217e1bf7c1144449e17af9deb1be2b3": {
          "model_module": "@jupyter-widgets/base",
          "model_name": "LayoutModel",
          "model_module_version": "1.2.0",
          "state": {
            "_model_module": "@jupyter-widgets/base",
            "_model_module_version": "1.2.0",
            "_model_name": "LayoutModel",
            "_view_count": null,
            "_view_module": "@jupyter-widgets/base",
            "_view_module_version": "1.2.0",
            "_view_name": "LayoutView",
            "align_content": null,
            "align_items": null,
            "align_self": null,
            "border": null,
            "bottom": null,
            "display": null,
            "flex": null,
            "flex_flow": null,
            "grid_area": null,
            "grid_auto_columns": null,
            "grid_auto_flow": null,
            "grid_auto_rows": null,
            "grid_column": null,
            "grid_gap": null,
            "grid_row": null,
            "grid_template_areas": null,
            "grid_template_columns": null,
            "grid_template_rows": null,
            "height": null,
            "justify_content": null,
            "justify_items": null,
            "left": null,
            "margin": null,
            "max_height": null,
            "max_width": null,
            "min_height": null,
            "min_width": null,
            "object_fit": null,
            "object_position": null,
            "order": null,
            "overflow": null,
            "overflow_x": null,
            "overflow_y": null,
            "padding": null,
            "right": null,
            "top": null,
            "visibility": null,
            "width": null
          }
        },
        "94dd1f666dfb401c972d62063d271db8": {
          "model_module": "@jupyter-widgets/controls",
          "model_name": "DescriptionStyleModel",
          "model_module_version": "1.5.0",
          "state": {
            "_model_module": "@jupyter-widgets/controls",
            "_model_module_version": "1.5.0",
            "_model_name": "DescriptionStyleModel",
            "_view_count": null,
            "_view_module": "@jupyter-widgets/base",
            "_view_module_version": "1.2.0",
            "_view_name": "StyleView",
            "description_width": ""
          }
        },
        "c35923bf34be437cb4057856dd450651": {
          "model_module": "@jupyter-widgets/base",
          "model_name": "LayoutModel",
          "model_module_version": "1.2.0",
          "state": {
            "_model_module": "@jupyter-widgets/base",
            "_model_module_version": "1.2.0",
            "_model_name": "LayoutModel",
            "_view_count": null,
            "_view_module": "@jupyter-widgets/base",
            "_view_module_version": "1.2.0",
            "_view_name": "LayoutView",
            "align_content": null,
            "align_items": null,
            "align_self": null,
            "border": null,
            "bottom": null,
            "display": null,
            "flex": null,
            "flex_flow": null,
            "grid_area": null,
            "grid_auto_columns": null,
            "grid_auto_flow": null,
            "grid_auto_rows": null,
            "grid_column": null,
            "grid_gap": null,
            "grid_row": null,
            "grid_template_areas": null,
            "grid_template_columns": null,
            "grid_template_rows": null,
            "height": null,
            "justify_content": null,
            "justify_items": null,
            "left": null,
            "margin": null,
            "max_height": null,
            "max_width": null,
            "min_height": null,
            "min_width": null,
            "object_fit": null,
            "object_position": null,
            "order": null,
            "overflow": null,
            "overflow_x": null,
            "overflow_y": null,
            "padding": null,
            "right": null,
            "top": null,
            "visibility": null,
            "width": null
          }
        },
        "eebff500f8174452a20b5f7afbaae825": {
          "model_module": "@jupyter-widgets/controls",
          "model_name": "ProgressStyleModel",
          "model_module_version": "1.5.0",
          "state": {
            "_model_module": "@jupyter-widgets/controls",
            "_model_module_version": "1.5.0",
            "_model_name": "ProgressStyleModel",
            "_view_count": null,
            "_view_module": "@jupyter-widgets/base",
            "_view_module_version": "1.2.0",
            "_view_name": "StyleView",
            "bar_color": null,
            "description_width": ""
          }
        },
        "56fd522c16f5433ca34dc92971b713d5": {
          "model_module": "@jupyter-widgets/base",
          "model_name": "LayoutModel",
          "model_module_version": "1.2.0",
          "state": {
            "_model_module": "@jupyter-widgets/base",
            "_model_module_version": "1.2.0",
            "_model_name": "LayoutModel",
            "_view_count": null,
            "_view_module": "@jupyter-widgets/base",
            "_view_module_version": "1.2.0",
            "_view_name": "LayoutView",
            "align_content": null,
            "align_items": null,
            "align_self": null,
            "border": null,
            "bottom": null,
            "display": null,
            "flex": null,
            "flex_flow": null,
            "grid_area": null,
            "grid_auto_columns": null,
            "grid_auto_flow": null,
            "grid_auto_rows": null,
            "grid_column": null,
            "grid_gap": null,
            "grid_row": null,
            "grid_template_areas": null,
            "grid_template_columns": null,
            "grid_template_rows": null,
            "height": null,
            "justify_content": null,
            "justify_items": null,
            "left": null,
            "margin": null,
            "max_height": null,
            "max_width": null,
            "min_height": null,
            "min_width": null,
            "object_fit": null,
            "object_position": null,
            "order": null,
            "overflow": null,
            "overflow_x": null,
            "overflow_y": null,
            "padding": null,
            "right": null,
            "top": null,
            "visibility": null,
            "width": null
          }
        },
        "9d624b2e9ea14d87ad56380ba0f6b9c6": {
          "model_module": "@jupyter-widgets/controls",
          "model_name": "DescriptionStyleModel",
          "model_module_version": "1.5.0",
          "state": {
            "_model_module": "@jupyter-widgets/controls",
            "_model_module_version": "1.5.0",
            "_model_name": "DescriptionStyleModel",
            "_view_count": null,
            "_view_module": "@jupyter-widgets/base",
            "_view_module_version": "1.2.0",
            "_view_name": "StyleView",
            "description_width": ""
          }
        }
      }
    },
    "gpuClass": "standard",
    "accelerator": "GPU"
  },
  "cells": [
    {
      "cell_type": "markdown",
      "metadata": {
        "id": "view-in-github",
        "colab_type": "text"
      },
      "source": [
        "<a href=\"https://colab.research.google.com/github/KennyNg-19/colab_nb/blob/main/CS4243.ipynb\" target=\"_parent\"><img src=\"https://colab.research.google.com/assets/colab-badge.svg\" alt=\"Open In Colab\"/></a>"
      ]
    },
    {
      "cell_type": "markdown",
      "source": [
        "# CS4243\n",
        "## Image Classification\n",
        "\n",
        "### Three classes: normal, carrying, threat\n"
      ],
      "metadata": {
        "id": "TlplzsytZPSN"
      }
    },
    {
      "cell_type": "markdown",
      "source": [
        "Kenny Ng: MLP+CNN\n",
        "\n",
        "Junzhe: CNN+RNN\n",
        "\n",
        "Qini: VGG + resnet18 + LeNet\n",
        "\n",
        "11.7 周一 - preprocessing + 开始构建模型、\n",
        "\n",
        "11.8 周二 - 模型可以跑通\n",
        "\n",
        "周三 - eval 完成 + 讨论需不需要做更多 + 查漏补缺\n",
        "\n",
        "周四 - 写poster + 查漏补缺\n",
        "\n",
        "周五 - 讨论如何presentation + 查漏补缺\n",
        "\n",
        "周六 - presentation\n",
        "\n",
        "需要交的东西：\n",
        "\n",
        "poster，模型weights\n"
      ],
      "metadata": {
        "id": "tVirgHZZvgnw"
      }
    },
    {
      "cell_type": "markdown",
      "source": [
        "# TODO:\n",
        "1. need to somehow load data and potentially use dataloader to split batch\n",
        "2. a DF ideally contains file names and label"
      ],
      "metadata": {
        "id": "YGFfjX2m9GdU"
      }
    },
    {
      "cell_type": "code",
      "source": [
        "# !pip install google-colab"
      ],
      "metadata": {
        "id": "Edyk2XOh3R_b"
      },
      "execution_count": null,
      "outputs": []
    },
    {
      "cell_type": "code",
      "source": [
        "from google.colab import drive\n",
        "drive.mount('/content/drive')\n",
        "# %cd /content/drive/My Drive/Colab Notebooks/cs4243_smallest # Kenny Path\n",
        "%cd /content/drive/My Drive/cs4243_smallest \n",
        "# QINI path\n",
        "\n",
        "!ls"
      ],
      "metadata": {
        "id": "8ljHixTNvfb7",
        "colab": {
          "base_uri": "https://localhost:8080/"
        },
        "outputId": "5159470f-b743-483b-84a7-21c875f6972b"
      },
      "execution_count": null,
      "outputs": [
        {
          "output_type": "stream",
          "name": "stdout",
          "text": [
            "Mounted at /content/drive\n",
            "/content/drive/My Drive/cs4243_smallest\n",
            "carrying  normal  outputs  threat\n"
          ]
        }
      ]
    },
    {
      "cell_type": "markdown",
      "source": [
        "### Import Library"
      ],
      "metadata": {
        "id": "EnFh9Tn-Z4sd"
      }
    },
    {
      "cell_type": "code",
      "execution_count": null,
      "metadata": {
        "id": "8d9hBaNBZMEs"
      },
      "outputs": [],
      "source": [
        "import os\n",
        "from PIL import Image\n",
        "import cv2\n",
        "\n",
        "import pandas as pd\n",
        "import numpy as np\n",
        "import seaborn as sns\n",
        "\n",
        "import torch\n",
        "from torch.utils.data import Dataset\n",
        "from torch.utils.data import DataLoader\n",
        "from torchvision import transforms\n",
        "import torchvision\n",
        "import torch.nn as nn\n",
        "import torch.nn.functional as F\n",
        "import torch.optim as optim\n",
        "\n",
        "import matplotlib.pyplot as plt\n",
        "%matplotlib inline\n",
        "\n",
        "from sklearn.model_selection import train_test_split\n",
        "\n",
        "from random import randint\n",
        "\n",
        "from tqdm import tqdm\n",
        "\n",
        "import time"
      ]
    },
    {
      "cell_type": "code",
      "source": [
        "# gpu setting\n",
        "device = torch.device('cuda:0' if torch.cuda.is_available() else 'cpu')\n",
        "print('device', device)"
      ],
      "metadata": {
        "colab": {
          "base_uri": "https://localhost:8080/"
        },
        "id": "djsK2DWZZtMd",
        "outputId": "a191138e-badd-4fb3-e7ff-ed6b9e160103"
      },
      "execution_count": null,
      "outputs": [
        {
          "output_type": "stream",
          "name": "stdout",
          "text": [
            "device cuda:0\n"
          ]
        }
      ]
    },
    {
      "cell_type": "markdown",
      "source": [
        "### Helper Functions"
      ],
      "metadata": {
        "id": "Uicp0Iu20i_G"
      }
    },
    {
      "cell_type": "code",
      "source": [
        "# Class to save the best model while training - \"best_model\"\n",
        "class SaveBestModel:\n",
        "    def __init__(\n",
        "        self, best_valid_loss=float('inf')\n",
        "    ):\n",
        "        self.best_valid_loss = best_valid_loss\n",
        "        # 别忘了创建目录\n",
        "        if not os.path.exists(\"outputs\"):\n",
        "            !mkdir \"outputs\"\n",
        "            \n",
        "    def __call__(\n",
        "        self, current_valid_loss, \n",
        "        epoch, model, optimizer, criterion\n",
        "    ):\n",
        "        if current_valid_loss < self.best_valid_loss:\n",
        "            self.best_valid_loss = current_valid_loss\n",
        "            print(f\"\\nBest validation loss: {self.best_valid_loss}\")\n",
        "            print(f\"\\nSaving best model for epoch: {epoch+1}\\n\")\n",
        "            torch.save({\n",
        "                'epoch': epoch+1,\n",
        "                'model_state_dict': model.state_dict(),\n",
        "                'optimizer_state_dict': optimizer.state_dict(),\n",
        "                'loss': criterion,\n",
        "                }, 'outputs/best_model.pth')\n",
        "            \n",
        "def save_model(epochs, model, optimizer, criterion):\n",
        "    print(f\"Saving final model...\")\n",
        "    torch.save({\n",
        "                'epoch': epochs,\n",
        "                'model_state_dict': model.state_dict(),\n",
        "                'optimizer_state_dict': optimizer.state_dict(),\n",
        "                'loss': criterion,\n",
        "                }, 'outputs/final_model.pth')"
      ],
      "metadata": {
        "id": "g1GG8MvlZnBA"
      },
      "execution_count": null,
      "outputs": []
    },
    {
      "cell_type": "code",
      "source": [
        "# more info for the poster:\n",
        "plt.style.use('ggplot')\n",
        "\n",
        "def save_plots(train_acc, valid_acc, train_loss, valid_loss):\n",
        "    # accuracy\n",
        "    plt.figure(figsize=(10, 7))\n",
        "    plt.plot(\n",
        "        train_acc, color='green', linestyle='-', \n",
        "        label='train accuracy'\n",
        "    )\n",
        "    plt.plot(\n",
        "        valid_acc, color='blue', linestyle='-', \n",
        "        label='validataion accuracy'\n",
        "    )\n",
        "    plt.xlabel('Epochs')\n",
        "    plt.ylabel('Accuracy')\n",
        "    plt.legend()\n",
        "    plt.savefig('outputs/accuracy.png')\n",
        "    \n",
        "    # loss\n",
        "    plt.figure(figsize=(10, 7))\n",
        "    plt.plot(\n",
        "        train_loss, color='orange', linestyle='-', \n",
        "        label='train loss'\n",
        "    )\n",
        "    plt.plot(\n",
        "        valid_loss, color='red', linestyle='-', \n",
        "        label='validataion loss'\n",
        "    )\n",
        "    plt.xlabel('Epochs')\n",
        "    plt.ylabel('Loss')\n",
        "    plt.legend()\n",
        "    plt.savefig('outputs/loss.png')\n",
        "\n",
        "def creat_viz_cm(confusion_matrix, label2class):\n",
        "    plt.figure(figsize=(15,10))\n",
        "\n",
        "    class_names = list(label2class.values())\n",
        "    df_cm = pd.DataFrame(confusion_matrix, index=class_names, columns=class_names).astype(int)\n",
        "    heatmap = sns.heatmap(df_cm, annot=True, fmt=\"d\")\n",
        "\n",
        "    heatmap.yaxis.set_ticklabels(heatmap.yaxis.get_ticklabels(), rotation=0, ha='right',fontsize=15)\n",
        "    heatmap.xaxis.set_ticklabels(heatmap.xaxis.get_ticklabels(), rotation=45, ha='right',fontsize=15)\n",
        "    plt.ylabel('True label')\n",
        "    plt.xlabel('Predicted label')\n"
      ],
      "metadata": {
        "id": "vJYonhtia1td"
      },
      "execution_count": null,
      "outputs": []
    },
    {
      "cell_type": "markdown",
      "source": [
        "### Loading the image and preprocessing\n",
        "Scaling and cropping, image enhancement, transformation to Tensor, normalization"
      ],
      "metadata": {
        "id": "DR5rxDRoZ2-H"
      }
    },
    {
      "cell_type": "code",
      "source": [],
      "metadata": {
        "id": "vzzemEil2skw"
      },
      "execution_count": null,
      "outputs": []
    },
    {
      "cell_type": "markdown",
      "source": [
        "从输入到最后一个卷积特征feature map，就是进行信息抽象的过程，然后就经过全连接层/全局池化层的变换进行分类了，这个feature map的大小，可以是3*3，5*5，7*7等等。在这些尺寸中，如果尺寸太小，那么信息就丢失太严重，如果尺寸太大，信息的抽象层次不够高，计算量也更大，所以7*7的kernel大小是一个最好的平衡。\n",
        "\n",
        "另一方面，图像从大分辨率降低到小分辨率，降低倍数通常是2的指数次方，所以图像的输入是 kernel size *2的指数次方。"
      ],
      "metadata": {
        "id": "IJtBgz6fZgPy"
      }
    },
    {
      "cell_type": "code",
      "source": [
        "#labels\n",
        "class2label = {'normal':0, 'carrying':1, 'threat':2}\n",
        "label2class = {0:'normal', 1:'carrying', 2:'threat'}\n",
        "classes = list(class2label.keys()) # keep the orders\n",
        "class_int = list(class2label.values())\n",
        "classes, class_int\n"
      ],
      "metadata": {
        "id": "qVz49DNt4MbK",
        "colab": {
          "base_uri": "https://localhost:8080/"
        },
        "outputId": "38bd88b0-5476-4082-c087-52dfde219498"
      },
      "execution_count": null,
      "outputs": [
        {
          "output_type": "execute_result",
          "data": {
            "text/plain": [
              "(['normal', 'carrying', 'threat'], [0, 1, 2])"
            ]
          },
          "metadata": {},
          "execution_count": 6
        }
      ]
    },
    {
      "cell_type": "markdown",
      "source": [
        "#### generate DataFrame for whole dataset"
      ],
      "metadata": {
        "id": "wNvVA41sAhw8"
      }
    },
    {
      "cell_type": "code",
      "source": [
        "\n",
        "img_names = [] # ID\n",
        "targets = [] # labels\n",
        "# root_path='.'\n",
        "root_path = \"/content/drive/My Drive/cs4243_smallest\" # qini path\n",
        "# root_path = \"/content/drive/My Drive/Colab Notebooks/cs4243_smallest\"\n",
        "\n",
        "# Mapping all img names & labels, 也是按照 classes顺序， ['normal', 'carrying', 'threat'] [0,1,2]\n",
        "for class_path in classes:                    \n",
        "    \n",
        "    # print(class_path)\n",
        "    path = os.path.join(root_path, class_path)\n",
        "    # 加上label_class_path\n",
        "    # img_names += [ class_path + \"/\" + img_name for img_name in os.listdir(path)]\n",
        "    print('here is class:', class_path, len(os.listdir(path)))\n",
        "    img_names += os.listdir(path)\n",
        "    # print(os.listdir(self.path))\n",
        "    targets += [class2label[class_path]] * len(os.listdir(path)) # all labels = 0 or 1 or 2\n",
        "\n",
        "# idx 完全mapping\n",
        "assert len(img_names) == len(targets), f'wrong no of all imgs, {len(img_names)}, {len(targets)}'\n",
        "df = pd.DataFrame({'ID':img_names, 'Label': targets})\n",
        "df.head()\n"
      ],
      "metadata": {
        "id": "kbdx6GIQAkbL",
        "colab": {
          "base_uri": "https://localhost:8080/",
          "height": 260
        },
        "outputId": "190424e9-d8e6-4341-dbe1-bc9714c0c0e2"
      },
      "execution_count": null,
      "outputs": [
        {
          "output_type": "stream",
          "name": "stdout",
          "text": [
            "here is class: normal 1857\n",
            "here is class: carrying 1536\n",
            "here is class: threat 1551\n"
          ]
        },
        {
          "output_type": "execute_result",
          "data": {
            "text/plain": [
              "                                              ID  Label\n",
              "0    A0170549Y_20220909_normal_32240.6373_30.png      0\n",
              "1  A0161202B_20220814_normal_94580.57456_100.png      0\n",
              "2  A0161202B_20220814_normal_94580.57456_200.png      0\n",
              "3   A0170549Y_20220909_normal_32240.6373_100.png      0\n",
              "4   A0170549Y_20220909_normal_32240.6373_200.png      0"
            ],
            "text/html": [
              "\n",
              "  <div id=\"df-1304b2a2-8f95-45f1-afad-d3bf7a504aa2\">\n",
              "    <div class=\"colab-df-container\">\n",
              "      <div>\n",
              "<style scoped>\n",
              "    .dataframe tbody tr th:only-of-type {\n",
              "        vertical-align: middle;\n",
              "    }\n",
              "\n",
              "    .dataframe tbody tr th {\n",
              "        vertical-align: top;\n",
              "    }\n",
              "\n",
              "    .dataframe thead th {\n",
              "        text-align: right;\n",
              "    }\n",
              "</style>\n",
              "<table border=\"1\" class=\"dataframe\">\n",
              "  <thead>\n",
              "    <tr style=\"text-align: right;\">\n",
              "      <th></th>\n",
              "      <th>ID</th>\n",
              "      <th>Label</th>\n",
              "    </tr>\n",
              "  </thead>\n",
              "  <tbody>\n",
              "    <tr>\n",
              "      <th>0</th>\n",
              "      <td>A0170549Y_20220909_normal_32240.6373_30.png</td>\n",
              "      <td>0</td>\n",
              "    </tr>\n",
              "    <tr>\n",
              "      <th>1</th>\n",
              "      <td>A0161202B_20220814_normal_94580.57456_100.png</td>\n",
              "      <td>0</td>\n",
              "    </tr>\n",
              "    <tr>\n",
              "      <th>2</th>\n",
              "      <td>A0161202B_20220814_normal_94580.57456_200.png</td>\n",
              "      <td>0</td>\n",
              "    </tr>\n",
              "    <tr>\n",
              "      <th>3</th>\n",
              "      <td>A0170549Y_20220909_normal_32240.6373_100.png</td>\n",
              "      <td>0</td>\n",
              "    </tr>\n",
              "    <tr>\n",
              "      <th>4</th>\n",
              "      <td>A0170549Y_20220909_normal_32240.6373_200.png</td>\n",
              "      <td>0</td>\n",
              "    </tr>\n",
              "  </tbody>\n",
              "</table>\n",
              "</div>\n",
              "      <button class=\"colab-df-convert\" onclick=\"convertToInteractive('df-1304b2a2-8f95-45f1-afad-d3bf7a504aa2')\"\n",
              "              title=\"Convert this dataframe to an interactive table.\"\n",
              "              style=\"display:none;\">\n",
              "        \n",
              "  <svg xmlns=\"http://www.w3.org/2000/svg\" height=\"24px\"viewBox=\"0 0 24 24\"\n",
              "       width=\"24px\">\n",
              "    <path d=\"M0 0h24v24H0V0z\" fill=\"none\"/>\n",
              "    <path d=\"M18.56 5.44l.94 2.06.94-2.06 2.06-.94-2.06-.94-.94-2.06-.94 2.06-2.06.94zm-11 1L8.5 8.5l.94-2.06 2.06-.94-2.06-.94L8.5 2.5l-.94 2.06-2.06.94zm10 10l.94 2.06.94-2.06 2.06-.94-2.06-.94-.94-2.06-.94 2.06-2.06.94z\"/><path d=\"M17.41 7.96l-1.37-1.37c-.4-.4-.92-.59-1.43-.59-.52 0-1.04.2-1.43.59L10.3 9.45l-7.72 7.72c-.78.78-.78 2.05 0 2.83L4 21.41c.39.39.9.59 1.41.59.51 0 1.02-.2 1.41-.59l7.78-7.78 2.81-2.81c.8-.78.8-2.07 0-2.86zM5.41 20L4 18.59l7.72-7.72 1.47 1.35L5.41 20z\"/>\n",
              "  </svg>\n",
              "      </button>\n",
              "      \n",
              "  <style>\n",
              "    .colab-df-container {\n",
              "      display:flex;\n",
              "      flex-wrap:wrap;\n",
              "      gap: 12px;\n",
              "    }\n",
              "\n",
              "    .colab-df-convert {\n",
              "      background-color: #E8F0FE;\n",
              "      border: none;\n",
              "      border-radius: 50%;\n",
              "      cursor: pointer;\n",
              "      display: none;\n",
              "      fill: #1967D2;\n",
              "      height: 32px;\n",
              "      padding: 0 0 0 0;\n",
              "      width: 32px;\n",
              "    }\n",
              "\n",
              "    .colab-df-convert:hover {\n",
              "      background-color: #E2EBFA;\n",
              "      box-shadow: 0px 1px 2px rgba(60, 64, 67, 0.3), 0px 1px 3px 1px rgba(60, 64, 67, 0.15);\n",
              "      fill: #174EA6;\n",
              "    }\n",
              "\n",
              "    [theme=dark] .colab-df-convert {\n",
              "      background-color: #3B4455;\n",
              "      fill: #D2E3FC;\n",
              "    }\n",
              "\n",
              "    [theme=dark] .colab-df-convert:hover {\n",
              "      background-color: #434B5C;\n",
              "      box-shadow: 0px 1px 3px 1px rgba(0, 0, 0, 0.15);\n",
              "      filter: drop-shadow(0px 1px 2px rgba(0, 0, 0, 0.3));\n",
              "      fill: #FFFFFF;\n",
              "    }\n",
              "  </style>\n",
              "\n",
              "      <script>\n",
              "        const buttonEl =\n",
              "          document.querySelector('#df-1304b2a2-8f95-45f1-afad-d3bf7a504aa2 button.colab-df-convert');\n",
              "        buttonEl.style.display =\n",
              "          google.colab.kernel.accessAllowed ? 'block' : 'none';\n",
              "\n",
              "        async function convertToInteractive(key) {\n",
              "          const element = document.querySelector('#df-1304b2a2-8f95-45f1-afad-d3bf7a504aa2');\n",
              "          const dataTable =\n",
              "            await google.colab.kernel.invokeFunction('convertToInteractive',\n",
              "                                                     [key], {});\n",
              "          if (!dataTable) return;\n",
              "\n",
              "          const docLinkHtml = 'Like what you see? Visit the ' +\n",
              "            '<a target=\"_blank\" href=https://colab.research.google.com/notebooks/data_table.ipynb>data table notebook</a>'\n",
              "            + ' to learn more about interactive tables.';\n",
              "          element.innerHTML = '';\n",
              "          dataTable['output_type'] = 'display_data';\n",
              "          await google.colab.output.renderOutput(dataTable, element);\n",
              "          const docLink = document.createElement('div');\n",
              "          docLink.innerHTML = docLinkHtml;\n",
              "          element.appendChild(docLink);\n",
              "        }\n",
              "      </script>\n",
              "    </div>\n",
              "  </div>\n",
              "  "
            ]
          },
          "metadata": {},
          "execution_count": 7
        }
      ]
    },
    {
      "cell_type": "code",
      "source": [
        "# split into df of train / test \n",
        "y = df['Label']\n",
        "X = df\n",
        "\n",
        "\n",
        "# torch.utils.data.random_split只是随机分，没有按照类别Stratified，比例：1857 ： 1535 ：1551\n",
        "# train_df, test_df = torch.utils.data.random_split(dataset, [train_size, test_size])\n",
        "\n",
        "# 按照8:2\n",
        "train_df, test_df, train_label, test_label = train_test_split(X, y, stratify=y, shuffle=True, test_size=0.2) \n",
        "# test_df, val_df, test_label, val_label = train_test_split(test_df, test_label, stratify=test_label, test_size=0.5)\n",
        "\n",
        "# 一定要resetindex, 给loader喂进去之前\n",
        "train_df.reset_index(drop=True, inplace=True)\n",
        "\n",
        "test_df.reset_index(drop=True, inplace=True)\n",
        "\n",
        "# test_df, val_df, test_label, val_label = train_test_split(test_df, test_label, stratify=test_label, test_size=0.5)\n",
        "# val_df.reset_index(drop=True, inplace=True)\n",
        "# print(val_df.Label.value_counts()/val_df.Label.value_counts().sum())\n",
        "\n",
        "# check Stratified split, 的class分布\n",
        "print(train_df.Label.value_counts()/train_df.Label.value_counts().sum())\n",
        "\n",
        "print(test_df.Label.value_counts()/test_df.Label.value_counts().sum())\n",
        "\n"
      ],
      "metadata": {
        "id": "-zsQdAcIB5w7",
        "colab": {
          "base_uri": "https://localhost:8080/"
        },
        "outputId": "1b5fc1fd-124d-4e71-be31-a1c1084b08c1"
      },
      "execution_count": null,
      "outputs": [
        {
          "output_type": "stream",
          "name": "stdout",
          "text": [
            "0    0.375474\n",
            "2    0.313780\n",
            "1    0.310746\n",
            "Name: Label, dtype: float64\n",
            "0    0.376138\n",
            "2    0.313448\n",
            "1    0.310415\n",
            "Name: Label, dtype: float64\n"
          ]
        }
      ]
    },
    {
      "cell_type": "markdown",
      "source": [
        "#### Image preporcess: transform"
      ],
      "metadata": {
        "id": "vIRVPlx0BOCA"
      }
    },
    {
      "cell_type": "code",
      "source": [
        "mean=[0.485, 0.456, 0.406]\n",
        "std=[0.229, 0.224, 0.225]\n",
        "normalize = transforms.Normalize(mean, std)\n",
        "\n",
        "resize_H, resized_W = 7*2**5, 7*2**5 # 如果是toTensor前，最后一个transform操作(即输入到模型的input shape)，最好是kerel size, 3/5/7,* 2的指数次方\n",
        "resize = transforms.Resize([resize_H, resized_W])\n",
        "# resize = transforms.Resize([resize_H, resized_W],interpolation=torchvision.transforms.InterpolationMode.BILINEAR)\n",
        "\n",
        "# 7*2**5=224\n",
        "crop_H, crop_W = 7*2**5, 7*2**5 # 如果是toTensor前，最后一个transform操作(即输入到模型的input shape)，最好是kerel size, 3/5/7,* 2的指数次方\n",
        "cent_crop = transforms.CenterCrop([crop_H, crop_W])\n",
        "\n",
        "transformations = transforms.Compose([resize,\n",
        "                                    #  cent_crop,\n",
        "                                    transforms.ToTensor(), # Tturn gray level from 0-255 into 0-1\n",
        "                                    normalize])  #  change 0-1 into (-1, 1)"
      ],
      "metadata": {
        "id": "8AYOLPJbBQZ0"
      },
      "execution_count": null,
      "outputs": []
    },
    {
      "cell_type": "markdown",
      "source": [
        "#### Build Dataset & DataLoader"
      ],
      "metadata": {
        "id": "YbMLjN1_BCtf"
      }
    },
    {
      "cell_type": "code",
      "source": [
        "class CS4243_dataset(Dataset): \n",
        "    \n",
        "    \n",
        "    def __init__(self, root_path , dataframe, transform=None):\n",
        "        \n",
        "        self.label2class = {0:'normal', 1:'carrying', 2:'threat'}\n",
        "        self.df = dataframe    \n",
        "        self.transform = transform\n",
        "        self.root_path = root_path\n",
        "        \n",
        "        self.image_paths = self.df['ID'] #image names\n",
        "        self.labels = self.df['Label']\n",
        "                \n",
        "\n",
        "    def __getitem__(self, index):\n",
        "        \n",
        "        img_path = self.image_paths[index] # 没有class_file_path\n",
        "        # print(img_path)\n",
        "        class_path = self.label2class[self.labels[index]]\n",
        "        image = Image.open(os.path.join(self.root_path, class_path, img_path))\n",
        "        \n",
        "        target = torch.tensor(self.labels[index])\n",
        "      \n",
        "        if self.transform != None:\n",
        "            image = self.transform(image)\n",
        "          \n",
        "        return [image, target]\n",
        "       \n",
        "    def __len__(self):\n",
        "        return len(self.df)"
      ],
      "metadata": {
        "id": "VROivFpxB_Ud"
      },
      "execution_count": null,
      "outputs": []
    },
    {
      "cell_type": "code",
      "source": [
        "batch_size = 128\n",
        "\n",
        "train_dataset = CS4243_dataset(root_path, train_df, transform = transformations)\n",
        "train_loader = DataLoader(dataset=train_dataset, batch_size=batch_size, num_workers=2, shuffle = True, pin_memory=True)\n",
        "\n",
        "# val_dataset = CS4243_dataset(root_path, val_df, transform = transformations)\n",
        "# val_loader = DataLoader(dataset=val_dataset, batch_size=batch_size, num_workers=2, shuffle = True, pin_memory=True)\n",
        "\n",
        "test_dataset = CS4243_dataset(root_path, test_df, transform = transformations)\n",
        "test_loader = DataLoader(dataset=test_dataset, batch_size=batch_size, num_workers=2, shuffle = True, pin_memory=True)\n",
        "\n",
        "for data in train_loader:\n",
        "    imgs, targets = data\n",
        "    print(imgs.shape)\n",
        "    print('labels:', targets, len(targets))\n",
        "    # test once\n",
        "    break"
      ],
      "metadata": {
        "id": "Ko5LVELh74q8",
        "colab": {
          "base_uri": "https://localhost:8080/"
        },
        "outputId": "c25a5202-5290-4fe4-da0e-a55ffe542cd8"
      },
      "execution_count": null,
      "outputs": [
        {
          "output_type": "stream",
          "name": "stdout",
          "text": [
            "torch.Size([128, 3, 224, 224])\n",
            "labels: tensor([2, 1, 2, 0, 1, 1, 0, 0, 1, 0, 1, 0, 2, 2, 0, 1, 0, 1, 0, 0, 1, 0, 2, 1,\n",
            "        0, 0, 2, 0, 0, 0, 1, 2, 1, 2, 0, 0, 2, 1, 0, 0, 1, 0, 1, 2, 0, 0, 1, 1,\n",
            "        0, 2, 2, 1, 0, 2, 0, 2, 1, 1, 1, 1, 2, 1, 2, 0, 1, 1, 0, 2, 1, 0, 2, 0,\n",
            "        0, 2, 0, 0, 0, 1, 0, 0, 1, 2, 1, 0, 2, 2, 1, 2, 0, 0, 0, 0, 1, 1, 1, 0,\n",
            "        1, 0, 2, 2, 0, 0, 1, 1, 2, 0, 2, 0, 0, 0, 2, 2, 0, 0, 1, 0, 0, 1, 0, 2,\n",
            "        0, 1, 0, 0, 2, 2, 0, 2]) 128\n"
          ]
        }
      ]
    },
    {
      "cell_type": "code",
      "source": [
        "test = imgs[1]\n",
        "# plt.imshow( test.permute(1, 2, 0)  )\n",
        "transforms.ToPILImage()(test) # show tensor BACK to img"
      ],
      "metadata": {
        "id": "XbnmaI1teDr7",
        "colab": {
          "base_uri": "https://localhost:8080/",
          "height": 241
        },
        "outputId": "db8291fa-ca3e-477f-d15d-94197bfa5266"
      },
      "execution_count": null,
      "outputs": [
        {
          "output_type": "execute_result",
          "data": {
            "text/plain": [
              "<PIL.Image.Image image mode=RGB size=224x224 at 0x7F3D12F39210>"
            ],
            "image/png": "[encoded data removed]"
          },
          "metadata": {},
          "execution_count": 14
        }
      ]
    },
    {
      "cell_type": "markdown",
      "source": [
        "### Image Classification Models\n",
        "\n",
        "Implement image classificaiton by using:\n",
        "1. VGG as baseline\n",
        "2. Resnet18\n",
        "3. Transfer Learning\n"
      ],
      "metadata": {
        "id": "rAuSKAB0aCyW"
      }
    },
    {
      "cell_type": "markdown",
      "source": [
        "#### Baseline: CNN from scratch"
      ],
      "metadata": {
        "id": "JQHwgUkQy5ch"
      }
    },
    {
      "cell_type": "code",
      "source": [
        "# Creating a CNN model\n",
        "class CNN(nn.Module):\n",
        "\n",
        "    def __init__(self):\n",
        "        super(CNN, self).__init__()\n",
        "\n",
        "        # === Complete the code (1.5')\n",
        "        self.conv1 = nn.Conv2d(in_channels=3, out_channels=16, kernel_size=5, stride=1, padding=1, padding_mode='zeros')\n",
        "        self.relu1 = nn.ReLU()\n",
        "        self.conv2 = nn.Conv2d(in_channels=16, out_channels=16, kernel_size=5, stride=1, padding=1, padding_mode='zeros')\n",
        "        self.relu2 = nn.ReLU()\n",
        "        self.mp1 = nn.MaxPool2d((2, 2), stride=(2, 2))\n",
        "        \n",
        "        self.conv3 = nn.Conv2d(in_channels=16, out_channels=32, kernel_size=5, stride=1, padding=1, padding_mode='zeros')\n",
        "        self.relu3 = nn.ReLU()\n",
        "        self.conv4 = nn.Conv2d(in_channels=32, out_channels=32, kernel_size=5, stride=1, padding=1, padding_mode='zeros')\n",
        "        self.relu4 = nn.ReLU()\n",
        "        self.mp2 = nn.MaxPool2d((2, 2), stride=(2, 2))\n",
        "        \n",
        "        self.conv5 = nn.Conv2d(in_channels=32, out_channels=64, kernel_size=5, stride=1, padding=1, padding_mode='zeros')\n",
        "        self.relu5 = nn.ReLU()\n",
        "        self.conv6 = nn.Conv2d(in_channels=64, out_channels=64, kernel_size=5, stride=1, padding=1, padding_mode='zeros')\n",
        "        self.relu6 = nn.ReLU()\n",
        "        self.mp3 = nn.MaxPool2d((2, 2), stride=(2, 2))\n",
        "        \n",
        "        self.conv7 = nn.Conv2d(in_channels=64, out_channels=128, kernel_size=5, stride=1, padding=1, padding_mode='zeros')\n",
        "        self.relu7 = nn.ReLU()\n",
        "        self.conv8 = nn.Conv2d(in_channels=128, out_channels=128, kernel_size=5, stride=1, padding=1, padding_mode='zeros')\n",
        "        self.relu8 = nn.ReLU()\n",
        "        \n",
        "        self.aap = nn.AdaptiveAvgPool2d(1)\n",
        "        self.linear = nn.Linear(128, 3)\n",
        "        # === Complete the code\n",
        "\n",
        "    def forward(self, x):\n",
        "        # === Complete the code (1.5')\n",
        "        x = self.conv1(x)\n",
        "        x = self.relu1(x)\n",
        "        x = self.conv2(x)\n",
        "        x = self.relu2(x)\n",
        "        x = self.mp1(x)\n",
        "        \n",
        "        x = self.conv3(x)\n",
        "        x = self.relu3(x)\n",
        "        x = self.conv4(x)\n",
        "        x = self.relu4(x)\n",
        "        x = self.mp2(x)\n",
        "        \n",
        "        x = self.conv5(x)\n",
        "        x = self.relu5(x)\n",
        "        # x = self.conv6(x)\n",
        "        # x = self.relu6(x)\n",
        "        x = self.mp3(x)\n",
        "        \n",
        "        x = self.conv7(x)\n",
        "        x = self.relu7(x)\n",
        "        # x = self.conv8(x)\n",
        "        # x = self.relu8(x)\n",
        "        \n",
        "        x = self.aap(x)\n",
        "        x = torch.flatten(x, start_dim=1, end_dim=3)\n",
        "        x = self.linear(x)\n",
        "        out = x\n",
        "        # === Complete the code\n",
        "        return out\n",
        "\n",
        "# print(cnn_model)"
      ],
      "metadata": {
        "id": "rEnKWSP204xN"
      },
      "execution_count": null,
      "outputs": []
    },
    {
      "cell_type": "markdown",
      "source": [
        "#### Baseline: LeNet-5 from scratch"
      ],
      "metadata": {
        "id": "QoF7UCeGbKcS"
      }
    },
    {
      "cell_type": "code",
      "source": [
        "# class LeNet5_convnet(nn.Module):\n",
        "\n",
        "#     def __init__(self):\n",
        "\n",
        "#         super(LeNet5_convnet, self).__init__()\n",
        "#         self.conv1 = nn.Conv2d(1,   50,  kernel_size=3,  padding=1 )\n",
        "#         self.pool1  = nn.MaxPool2d(2,2)\n",
        "\n",
        "#         self.conv2 = nn.Conv2d(50,  100,  kernel_size=3,  padding=1 )\n",
        "#         self.pool2 = nn.MaxPool2d(2,2)\n",
        "    \n",
        "#         self.linear1 = nn.Linear(4900, 100)\n",
        "#         self.linear2 = nn.Linear(100,10)\n",
        "\n",
        "\n",
        "#     def forward(self, x):\n",
        "#         x = self.conv1(x)\n",
        "#         x = torch.relu(x)\n",
        "#         x = self.pool1(x)\n",
        "    \n",
        "#         x = self.conv2(x)\n",
        "#         x = torch.relu(x)\n",
        "#         x = self.pool2(x)\n",
        "\n",
        "#         x = x.view(-1, 4900)\n",
        "#         x = self.linear1(x)\n",
        "#         x = torch.relu(x)\n",
        "#         x = self.linear2(x)\n",
        "    \n",
        "#         return x\n",
        "\n",
        "class LeNet5_convnet(nn.Module):\n",
        "\n",
        "    def __init__(self):\n",
        "        super(LeNet5_convnet, self).__init__()\n",
        "        # 1 input image channel, 6 output channels, 5x5 square convolution\n",
        "        # kernel\n",
        "        self.conv1 = nn.Conv2d(3, 6, 5)\n",
        "        self.conv2 = nn.Conv2d(6, 16, 5)\n",
        "        # an affine operation: y = Wx + b\n",
        "        self.fc1 = nn.Linear(16 * 53 * 53, 120)  # 4*4 from image dimension, 这里得改 53*53，for 224\n",
        "        self.fc2 = nn.Linear(120, 84)\n",
        "        self.fc3 = nn.Linear(84, 3)\n",
        "\n",
        "    def forward(self, x):\n",
        "        # Max pooling over a (2, 2) window\n",
        "        x = F.max_pool2d(F.relu(self.conv1(x)), (2, 2))\n",
        "        # If the size is a square, you can specify with a single number\n",
        "        x = F.max_pool2d(F.relu(self.conv2(x)), 2)\n",
        "\n",
        "        # print(x.shape)\n",
        "        # x = self.aap(x)\n",
        "        x = torch.flatten(x, 1) # flatten all dimensions except the batch dimension\n",
        "        x = F.relu(self.fc1(x))\n",
        "        x = F.relu(self.fc2(x))\n",
        "        x = self.fc3(x)\n",
        "        x = F.log_softmax(x, dim=1) # 计算log(softmax(x))\n",
        "        return x\n"
      ],
      "metadata": {
        "id": "R90J2mqbqZPZ"
      },
      "execution_count": null,
      "outputs": []
    },
    {
      "cell_type": "markdown",
      "source": [
        "#### Way 2: VGG from scratch\n",
        "Build a VGG"
      ],
      "metadata": {
        "id": "TYWVHsAZcB3X"
      }
    },
    {
      "cell_type": "code",
      "source": [
        "class VGG_convnet(nn.Module):\n",
        "\n",
        "    def __init__(self):\n",
        "\n",
        "        super(VGG_convnet, self).__init__()\n",
        "\n",
        "        # block 1:         3 x 32 x 32 --> 64 x 16 x 16        \n",
        "        self.conv1a = nn.Conv2d(3,   64,  kernel_size=3, padding=1 )\n",
        "        self.conv1b = nn.Conv2d(64,  64,  kernel_size=3, padding=1 )\n",
        "        self.pool1  = nn.MaxPool2d(2,2)\n",
        "\n",
        "        # block 2:         64 x 16 x 16 --> 128 x 8 x 8\n",
        "        self.conv2a = nn.Conv2d(64,  128, kernel_size=3, padding=1 )\n",
        "        self.conv2b = nn.Conv2d(128, 128, kernel_size=3, padding=1 )\n",
        "        self.pool2  = nn.MaxPool2d(2,2)\n",
        "\n",
        "        # block 3:         128 x 8 x 8 --> 256 x 4 x 4        \n",
        "        self.conv3a = nn.Conv2d(128, 256, kernel_size=3, padding=1 )\n",
        "        self.conv3b = nn.Conv2d(256, 256, kernel_size=3, padding=1 )\n",
        "        self.pool3  = nn.MaxPool2d(2,2)\n",
        "        \n",
        "        #block 4:          256 x 4 x 4 --> 512 x 2 x 2\n",
        "        self.conv4a = nn.Conv2d(256, 512, kernel_size=3, padding=1 )\n",
        "        self.pool4  = nn.MaxPool2d(2,2)\n",
        "\n",
        "        # linear layers:   512 x 2 x 2 --> 2048 --> 4096 --> 4096 --> 3\n",
        "        self.linear1 = nn.Linear(2048, 4096)\n",
        "        self.linear2 = nn.Linear(4096,4096)\n",
        "        self.linear3 = nn.Linear(4096, 3)\n",
        "\n",
        "\n",
        "    def forward(self, x):\n",
        "\n",
        "        x = self.conv1a(x)\n",
        "        x = F.relu(x)\n",
        "        x = self.conv1b(x)\n",
        "        x = F.relu(x)\n",
        "        x = self.pool1(x)\n",
        "\n",
        "        x = self.conv2a(x)\n",
        "        x = F.relu(x)\n",
        "        x = self.conv2b(x)\n",
        "        x = F.relu(x)\n",
        "        x = self.pool2(x)\n",
        "\n",
        "        x = self.conv3a(x)\n",
        "        x = F.relu(x)\n",
        "        x = self.conv3b(x)\n",
        "        x = F.relu(x)\n",
        "        x = self.pool3(x)\n",
        "\n",
        "        x = self.conv4a(x)\n",
        "        x = F.relu(x)\n",
        "        x = self.pool4(x)\n",
        "\n",
        "        # x = x.view(-1, 2048)\n",
        "        x = torch.flatten(x, 1)\n",
        "        x = self.linear1(x)\n",
        "        x = F.relu(x)\n",
        "        x = self.linear2(x)\n",
        "        x = F.relu(x)\n",
        "        x = self.linear3(x) \n",
        "        \n",
        "        return x"
      ],
      "metadata": {
        "id": "B8jLyMHjcGHF"
      },
      "execution_count": null,
      "outputs": []
    },
    {
      "cell_type": "code",
      "source": [],
      "metadata": {
        "id": "Nn9ItL3Ez_xt"
      },
      "execution_count": null,
      "outputs": []
    },
    {
      "cell_type": "markdown",
      "source": [
        "#### Way 3: Resnet 18"
      ],
      "metadata": {
        "id": "S2Q7xtQM3iHc"
      }
    },
    {
      "cell_type": "code",
      "source": [
        "class Residual_block(nn.Module):\n",
        "    def __init__(self, inchannel, outchannel, stride=1):\n",
        "        super(Residual_block, self).__init__()\n",
        "        self.left = nn.Sequential(\n",
        "            nn.Conv2d(inchannel, outchannel, kernel_size=3, stride=stride, padding=1, bias=False),\n",
        "            nn.BatchNorm2d(outchannel),\n",
        "            nn.ReLU(inplace=True),\n",
        "            nn.Conv2d(outchannel, outchannel, kernel_size=3, stride=1, padding=1, bias=False),\n",
        "            nn.BatchNorm2d(outchannel)\n",
        "        )\n",
        "        self.shortcut = nn.Sequential()\n",
        "        if stride != 1 or inchannel != outchannel:\n",
        "            self.shortcut = nn.Sequential(\n",
        "                nn.Conv2d(inchannel, outchannel, kernel_size=1, stride=stride, bias=False),\n",
        "                nn.BatchNorm2d(outchannel)\n",
        "            )\n",
        "            \n",
        "    def forward(self, x):\n",
        "        out = self.left(x)\n",
        "        out = out + self.shortcut(x)\n",
        "        out = F.relu(out)\n",
        "        \n",
        "        return out\n",
        "\n",
        "class ResNet(nn.Module):\n",
        "    def __init__(self, Residual_block, num_classes=10):\n",
        "        super(ResNet, self).__init__()\n",
        "        self.inchannel = 64\n",
        "        self.conv1 = nn.Sequential(\n",
        "            nn.Conv2d(3, 64, kernel_size=3, stride=1, padding=1, bias=False),\n",
        "            nn.BatchNorm2d(64),\n",
        "            nn.ReLU()\n",
        "        )\n",
        "        self.layer1 = self.make_layer(Residual_block, 64, 2, stride=1)\n",
        "        self.layer2 = self.make_layer(Residual_block, 128, 2, stride=2)\n",
        "        self.layer3 = self.make_layer(Residual_block, 256, 2, stride=2)        \n",
        "        self.layer4 = self.make_layer(Residual_block, 512, 2, stride=2)        \n",
        "        self.fc = nn.Linear(512, num_classes)\n",
        "        \n",
        "    def make_layer(self, block, channels, num_blocks, stride):\n",
        "        strides = [stride] + [1] * (num_blocks - 1)\n",
        "        layers = []\n",
        "        for stride in strides:\n",
        "            layers.append(block(self.inchannel, channels, stride))\n",
        "            self.inchannel = channels\n",
        "        return nn.Sequential(*layers)\n",
        "    \n",
        "    def forward(self, x):\n",
        "        out = self.conv1(x)\n",
        "        out = self.layer1(out)\n",
        "        out = self.layer2(out)\n",
        "        out = self.layer3(out)\n",
        "        out = self.layer4(out)\n",
        "        out = F.avg_pool2d(out, 4)\n",
        "        out = out.view(out.size(0), -1)\n",
        "        out = self.fc(out)\n",
        "        return out\n",
        "\n",
        "def ResNet18():\n",
        "    return ResNet(Residual_block)"
      ],
      "metadata": {
        "id": "-1UoBY3w3owT"
      },
      "execution_count": null,
      "outputs": []
    },
    {
      "cell_type": "markdown",
      "source": [
        "## Train"
      ],
      "metadata": {
        "id": "h4iGqQKS2GiW"
      }
    },
    {
      "cell_type": "code",
      "source": [
        "# net=VGG_convnet()\n",
        "# net=CNN()\n",
        "net=LeNet5_convnet()\n",
        "# net = MLP()\n",
        "# net = ResNet18()\n",
        "\n",
        "print(net)"
      ],
      "metadata": {
        "id": "FDR40Q0K2nwa",
        "colab": {
          "base_uri": "https://localhost:8080/"
        },
        "outputId": "2fccdd20-b7c5-48b4-e321-2220af982ffa"
      },
      "execution_count": null,
      "outputs": [
        {
          "output_type": "stream",
          "name": "stdout",
          "text": [
            "LeNet5_convnet(\n",
            "  (conv1): Conv2d(3, 6, kernel_size=(5, 5), stride=(1, 1))\n",
            "  (conv2): Conv2d(6, 16, kernel_size=(5, 5), stride=(1, 1))\n",
            "  (fc1): Linear(in_features=44944, out_features=120, bias=True)\n",
            "  (fc2): Linear(in_features=120, out_features=84, bias=True)\n",
            "  (fc3): Linear(in_features=84, out_features=3, bias=True)\n",
            ")\n"
          ]
        }
      ]
    },
    {
      "cell_type": "code",
      "source": [
        "# send to gpu\n",
        "net = net.to(device)\n",
        "mean = torch.FloatTensor(mean)\n",
        "mean = mean.to(device)\n",
        "std = torch.FloatTensor(std)\n",
        "std = std.to(device)"
      ],
      "metadata": {
        "id": "YP4Ncn120DYq",
        "colab": {
          "base_uri": "https://localhost:8080/",
          "height": 280
        },
        "outputId": "d0004354-1f3c-4c5e-8271-c037714a07ab"
      },
      "execution_count": null,
      "outputs": [
        {
          "output_type": "error",
          "ename": "TypeError",
          "evalue": "ignored",
          "traceback": [
            "\u001b[0;31m---------------------------------------------------------------------------\u001b[0m",
            "\u001b[0;31mTypeError\u001b[0m                                 Traceback (most recent call last)",
            "\u001b[0;32m<ipython-input-25-862f411fe1fe>\u001b[0m in \u001b[0;36m<module>\u001b[0;34m\u001b[0m\n\u001b[1;32m      1\u001b[0m \u001b[0;31m# send to gpu\u001b[0m\u001b[0;34m\u001b[0m\u001b[0;34m\u001b[0m\u001b[0;34m\u001b[0m\u001b[0m\n\u001b[1;32m      2\u001b[0m \u001b[0mnet\u001b[0m \u001b[0;34m=\u001b[0m \u001b[0mnet\u001b[0m\u001b[0;34m.\u001b[0m\u001b[0mto\u001b[0m\u001b[0;34m(\u001b[0m\u001b[0mdevice\u001b[0m\u001b[0;34m)\u001b[0m\u001b[0;34m\u001b[0m\u001b[0;34m\u001b[0m\u001b[0m\n\u001b[0;32m----> 3\u001b[0;31m \u001b[0mmean\u001b[0m \u001b[0;34m=\u001b[0m \u001b[0mtorch\u001b[0m\u001b[0;34m.\u001b[0m\u001b[0mFloatTensor\u001b[0m\u001b[0;34m(\u001b[0m\u001b[0mmean\u001b[0m\u001b[0;34m)\u001b[0m\u001b[0;34m\u001b[0m\u001b[0;34m\u001b[0m\u001b[0m\n\u001b[0m\u001b[1;32m      4\u001b[0m \u001b[0mmean\u001b[0m \u001b[0;34m=\u001b[0m \u001b[0mmean\u001b[0m\u001b[0;34m.\u001b[0m\u001b[0mto\u001b[0m\u001b[0;34m(\u001b[0m\u001b[0mdevice\u001b[0m\u001b[0;34m)\u001b[0m\u001b[0;34m\u001b[0m\u001b[0;34m\u001b[0m\u001b[0m\n\u001b[1;32m      5\u001b[0m \u001b[0mstd\u001b[0m \u001b[0;34m=\u001b[0m \u001b[0mtorch\u001b[0m\u001b[0;34m.\u001b[0m\u001b[0mFloatTensor\u001b[0m\u001b[0;34m(\u001b[0m\u001b[0mstd\u001b[0m\u001b[0;34m)\u001b[0m\u001b[0;34m\u001b[0m\u001b[0;34m\u001b[0m\u001b[0m\n",
            "\u001b[0;31mTypeError\u001b[0m: expected TensorOptions(dtype=float, device=cpu, layout=Strided, requires_grad=false (default), pinned_memory=false (default), memory_format=(nullopt)) (got TensorOptions(dtype=float, device=cuda:0, layout=Strided, requires_grad=false (default), pinned_memory=false (default), memory_format=(nullopt)))"
          ]
        }
      ]
    },
    {
      "cell_type": "code",
      "source": [
        "criterion = nn.CrossEntropyLoss()\n",
        "my_lr=0.25 \n",
        "bs= 128\n",
        "epochs = 3\n",
        "\n",
        "# initialize SaveBestModel class\n",
        "save_best_model = SaveBestModel()"
      ],
      "metadata": {
        "id": "azzgHCao0ID4"
      },
      "execution_count": null,
      "outputs": []
    },
    {
      "cell_type": "code",
      "source": [
        "# train a Epoch\n",
        "def train(model, train_loader, optimizer, criterion):\n",
        "    model.train()\n",
        "    print('===== Training =====')\n",
        "    running_loss=0\n",
        "    counter=0 # batch no\n",
        "    running_correct = 0\n",
        "    for i, data in tqdm(enumerate(train_loader), total=len(train_loader)):\n",
        "        counter += 1\n",
        "        X_train, y_train = data\n",
        "        X_train = X_train.to(device)\n",
        "        y_train = y_train.to(device)\n",
        "        optimizer.zero_grad()\n",
        "\n",
        "        # forward pass\n",
        "        outputs = model(X_train)\n",
        "        # calculate the loss\n",
        "        loss = criterion(outputs, y_train)\n",
        "        running_loss += loss.item()\n",
        "        # calculate the accuracy\n",
        "        _, preds = torch.max(outputs.data, 1)\n",
        "        running_correct += (preds == y_train).sum().item()\n",
        "        # backpropagation\n",
        "        loss.backward()\n",
        "        # update the optimizer parameters\n",
        "        optimizer.step()\n",
        "        \n",
        "        # loss and accuracy for the complete epoch\n",
        "        epoch_loss = running_loss / counter\n",
        "        epoch_acc = 100. * (running_correct / len(train_loader.dataset))\n",
        "        \n",
        "        # output batch信息\n",
        "        batch_size = X_train.shape[0]\n",
        "        show_bt_loss_freq = len(train_df)//batch_size//3\n",
        "        if (i + 1) % show_bt_loss_freq == 0:\n",
        "            print(f\"to batch {i} | epoch: loss {epoch_loss:.3f}, train acc(sofar): {epoch_acc:.2f}%\")\n",
        "        \n",
        "    return epoch_loss, epoch_acc\n",
        "  \n",
        "# val/test a Epoch\n",
        "def validate(model, test_loader, criterion):\n",
        "    model.eval() # close BN and dropout layer\n",
        "    print('===== Validation =====')\n",
        "    running_loss = 0.0\n",
        "    running_correct = 0\n",
        "    counter = 0\n",
        "    with torch.no_grad():\n",
        "        for i, data in tqdm(enumerate(test_loader), total=len(test_loader)):\n",
        "            counter += 1\n",
        "            \n",
        "            X_test, y_test = data\n",
        "            X_test = X_test.to(device)\n",
        "            y_test = y_test.to(device)\n",
        "            # forward pass\n",
        "            outputs = model(X_test)\n",
        "            # calculate the loss\n",
        "            loss = criterion(outputs, y_test)\n",
        "            running_loss += loss.item()\n",
        "            # calculate the accuracy\n",
        "            _, preds = torch.max(outputs.data, 1)\n",
        "            running_correct += (preds == y_test).sum().item()\n",
        "        \n",
        "    # loss and accuracy for the complete epoch\n",
        "    epoch_loss = running_loss / counter\n",
        "    epoch_acc = 100. * (running_correct / len(test_loader.dataset))\n",
        "    return epoch_loss, epoch_acc"
      ],
      "metadata": {
        "id": "K2sBy0N4T_F7"
      },
      "execution_count": null,
      "outputs": []
    },
    {
      "cell_type": "code",
      "source": [],
      "metadata": {
        "id": "SiEYDXHzrO0F"
      },
      "execution_count": null,
      "outputs": []
    },
    {
      "cell_type": "code",
      "source": [
        "start=time.time()\n",
        "train_loss, valid_loss = [], []\n",
        "train_acc, valid_acc = [], []\n",
        "for epoch in range(epochs):\n",
        "    print(f\"[INFO]: Epoch {epoch+1} of {epochs}\")\n",
        "    \n",
        "    # divide the learning rate by 2 at epoch 10, 14 and 18\n",
        "    if epoch==10 or epoch == 14 or epoch==18:\n",
        "        my_lr = my_lr / 2\n",
        "    \n",
        "    # give the current learning rate for the optimizer\n",
        "    optimizer=torch.optim.SGD(net.parameters(), lr=my_lr, momentum=0.9, weight_decay=5e-4 )\n",
        "        \n",
        "    train_epoch_loss, train_epoch_acc = train(net, train_loader, \n",
        "                                            optimizer, criterion)\n",
        "    valid_epoch_loss, valid_epoch_acc = validate(net, test_loader, criterion)\n",
        "    train_loss.append(train_epoch_loss)\n",
        "    valid_loss.append(valid_epoch_loss)\n",
        "    train_acc.append(train_epoch_acc)\n",
        "    valid_acc.append(valid_epoch_acc)\n",
        "    print(f\"Epoch Training loss: {train_epoch_loss:.3f}, training acc: {train_epoch_acc:.3f}%\")\n",
        "    print(f\"Epoch Validation loss: {valid_epoch_loss:.3f}, validation acc: {valid_epoch_acc:.3f}%\")\n",
        "    # save the best net:\n",
        "    save_best_model(\n",
        "        valid_epoch_loss, epoch, net, optimizer, criterion\n",
        "    )\n",
        "    print('-'*50)\n",
        "    \n",
        "# save the trained net weights for a final time - need to submit this with the poster\n",
        "save_model(epochs, net, optimizer, criterion)\n",
        "save_plots(train_acc, valid_acc, train_loss, valid_loss)\n",
        "print('TRAINING COMPLETE')\n",
        "    "
      ],
      "metadata": {
        "id": "NYyd9Ysv0X6M",
        "colab": {
          "base_uri": "https://localhost:8080/",
          "height": 1000
        },
        "outputId": "cc9cc838-ec2c-4221-df85-2f199eced26a"
      },
      "execution_count": null,
      "outputs": [
        {
          "metadata": {
            "tags": null
          },
          "name": "stdout",
          "output_type": "stream",
          "text": [
            "[INFO]: Epoch 1 of 5\n",
            "===== Training =====\n"
          ]
        },
        {
          "metadata": {
            "tags": null
          },
          "name": "stderr",
          "output_type": "stream",
          "text": [
            " 32%|███▏      | 10/31 [02:35<04:34, 13.08s/it]"
          ]
        },
        {
          "metadata": {
            "tags": null
          },
          "name": "stdout",
          "output_type": "stream",
          "text": [
            "to batch 9 | epoch: loss 1.097, train acc(sofar): 12.31%\n"
          ]
        },
        {
          "metadata": {
            "tags": null
          },
          "name": "stderr",
          "output_type": "stream",
          "text": [
            " 65%|██████▍   | 20/31 [05:14<02:28, 13.52s/it]"
          ]
        },
        {
          "metadata": {
            "tags": null
          },
          "name": "stdout",
          "output_type": "stream",
          "text": [
            "to batch 19 | epoch: loss 1.098, train acc(sofar): 24.15%\n"
          ]
        },
        {
          "metadata": {
            "tags": null
          },
          "name": "stderr",
          "output_type": "stream",
          "text": [
            " 97%|█████████▋| 30/31 [07:55<00:13, 13.09s/it]"
          ]
        },
        {
          "metadata": {
            "tags": null
          },
          "name": "stdout",
          "output_type": "stream",
          "text": [
            "to batch 29 | epoch: loss 1.099, train acc(sofar): 34.97%\n"
          ]
        },
        {
          "metadata": {
            "tags": null
          },
          "name": "stderr",
          "output_type": "stream",
          "text": [
            "100%|██████████| 31/31 [08:19<00:00, 16.12s/it]"
          ]
        },
        {
          "metadata": {
            "tags": null
          },
          "name": "stdout",
          "output_type": "stream",
          "text": [
            "===== Validation =====\n"
          ]
        },
        {
          "metadata": {
            "tags": null
          },
          "name": "stderr",
          "output_type": "stream",
          "text": [
            "\n",
            "100%|██████████| 8/8 [02:15<00:00, 16.90s/it]\n"
          ]
        },
        {
          "metadata": {
            "tags": null
          },
          "name": "stdout",
          "output_type": "stream",
          "text": [
            "Epoch Training loss: 1.098, training acc: 36.106%\n",
            "Epoch Validation loss: 1.093, validation acc: 37.614%\n",
            "\n",
            "Best validation loss: 1.0925749689340591\n",
            "\n",
            "Saving best model for epoch: 1\n",
            "\n",
            "--------------------------------------------------\n",
            "[INFO]: Epoch 2 of 5\n",
            "===== Training =====\n"
          ]
        },
        {
          "metadata": {
            "tags": null
          },
          "name": "stderr",
          "output_type": "stream",
          "text": [
            " 32%|███▏      | 10/31 [00:59<01:42,  4.88s/it]"
          ]
        },
        {
          "metadata": {
            "tags": null
          },
          "name": "stdout",
          "output_type": "stream",
          "text": [
            "to batch 9 | epoch: loss 1.091, train acc(sofar): 12.21%\n"
          ]
        },
        {
          "metadata": {
            "tags": null
          },
          "name": "stderr",
          "output_type": "stream",
          "text": [
            " 65%|██████▍   | 20/31 [01:54<00:54,  5.00s/it]"
          ]
        },
        {
          "metadata": {
            "tags": null
          },
          "name": "stdout",
          "output_type": "stream",
          "text": [
            "to batch 19 | epoch: loss 1.095, train acc(sofar): 23.59%\n"
          ]
        },
        {
          "metadata": {
            "tags": null
          },
          "name": "stderr",
          "output_type": "stream",
          "text": [
            " 97%|█████████▋| 30/31 [02:49<00:04,  4.50s/it]"
          ]
        },
        {
          "metadata": {
            "tags": null
          },
          "name": "stdout",
          "output_type": "stream",
          "text": [
            "to batch 29 | epoch: loss 1.086, train acc(sofar): 37.62%\n"
          ]
        },
        {
          "metadata": {
            "tags": null
          },
          "name": "stderr",
          "output_type": "stream",
          "text": [
            "100%|██████████| 31/31 [02:56<00:00,  5.71s/it]"
          ]
        },
        {
          "metadata": {
            "tags": null
          },
          "name": "stdout",
          "output_type": "stream",
          "text": [
            "===== Validation =====\n"
          ]
        },
        {
          "metadata": {
            "tags": null
          },
          "name": "stderr",
          "output_type": "stream",
          "text": [
            "\n",
            "100%|██████████| 8/8 [00:46<00:00,  5.77s/it]\n"
          ]
        },
        {
          "metadata": {
            "tags": null
          },
          "name": "stdout",
          "output_type": "stream",
          "text": [
            "Epoch Training loss: 1.086, training acc: 38.887%\n",
            "Epoch Validation loss: 1.068, validation acc: 42.568%\n",
            "\n",
            "Best validation loss: 1.068365916609764\n",
            "\n",
            "Saving best model for epoch: 2\n",
            "\n",
            "--------------------------------------------------\n",
            "[INFO]: Epoch 3 of 5\n",
            "===== Training =====\n"
          ]
        },
        {
          "metadata": {
            "tags": null
          },
          "name": "stderr",
          "output_type": "stream",
          "text": [
            " 32%|███▏      | 10/31 [00:58<01:52,  5.34s/it]"
          ]
        },
        {
          "metadata": {
            "tags": null
          },
          "name": "stdout",
          "output_type": "stream",
          "text": [
            "to batch 9 | epoch: loss 1.005, train acc(sofar): 16.06%\n"
          ]
        },
        {
          "metadata": {
            "tags": null
          },
          "name": "stderr",
          "output_type": "stream",
          "text": [
            " 65%|██████▍   | 20/31 [01:53<00:55,  5.04s/it]"
          ]
        },
        {
          "metadata": {
            "tags": null
          },
          "name": "stdout",
          "output_type": "stream",
          "text": [
            "to batch 19 | epoch: loss 1.035, train acc(sofar): 29.81%\n"
          ]
        },
        {
          "output_type": "stream",
          "name": "stderr",
          "text": [
            " 97%|█████████▋| 30/31 [02:50<00:05,  5.15s/it]"
          ]
        },
        {
          "output_type": "stream",
          "name": "stdout",
          "text": [
            "to batch 29 | epoch: loss 1.041, train acc(sofar): 44.45%\n"
          ]
        },
        {
          "output_type": "stream",
          "name": "stderr",
          "text": [
            "100%|██████████| 31/31 [02:55<00:00,  5.66s/it]"
          ]
        },
        {
          "output_type": "stream",
          "name": "stdout",
          "text": [
            "===== Validation =====\n"
          ]
        },
        {
          "output_type": "stream",
          "name": "stderr",
          "text": [
            "\n",
            "100%|██████████| 8/8 [00:46<00:00,  5.86s/it]\n"
          ]
        },
        {
          "output_type": "stream",
          "name": "stdout",
          "text": [
            "Epoch Training loss: 1.043, training acc: 45.689%\n",
            "Epoch Validation loss: 1.058, validation acc: 43.478%\n",
            "\n",
            "Best validation loss: 1.0579411685466766\n",
            "\n",
            "Saving best model for epoch: 3\n",
            "\n",
            "--------------------------------------------------\n",
            "[INFO]: Epoch 4 of 5\n",
            "===== Training =====\n"
          ]
        },
        {
          "output_type": "stream",
          "name": "stderr",
          "text": [
            "  6%|▋         | 2/31 [00:15<03:46,  7.81s/it]\n"
          ]
        },
        {
          "output_type": "error",
          "ename": "KeyboardInterrupt",
          "evalue": "ignored",
          "traceback": [
            "\u001b[0;31m---------------------------------------------------------------------------\u001b[0m",
            "\u001b[0;31mKeyboardInterrupt\u001b[0m                         Traceback (most recent call last)",
            "\u001b[0;32m<ipython-input-27-a8e25d496c18>\u001b[0m in \u001b[0;36m<module>\u001b[0;34m\u001b[0m\n\u001b[1;32m     13\u001b[0m \u001b[0;34m\u001b[0m\u001b[0m\n\u001b[1;32m     14\u001b[0m     train_epoch_loss, train_epoch_acc = train(net, train_loader, \n\u001b[0;32m---> 15\u001b[0;31m                                             optimizer, criterion)\n\u001b[0m\u001b[1;32m     16\u001b[0m     \u001b[0mvalid_epoch_loss\u001b[0m\u001b[0;34m,\u001b[0m \u001b[0mvalid_epoch_acc\u001b[0m \u001b[0;34m=\u001b[0m \u001b[0mvalidate\u001b[0m\u001b[0;34m(\u001b[0m\u001b[0mnet\u001b[0m\u001b[0;34m,\u001b[0m \u001b[0mtest_loader\u001b[0m\u001b[0;34m,\u001b[0m \u001b[0mcriterion\u001b[0m\u001b[0;34m)\u001b[0m\u001b[0;34m\u001b[0m\u001b[0;34m\u001b[0m\u001b[0m\n\u001b[1;32m     17\u001b[0m     \u001b[0mtrain_loss\u001b[0m\u001b[0;34m.\u001b[0m\u001b[0mappend\u001b[0m\u001b[0;34m(\u001b[0m\u001b[0mtrain_epoch_loss\u001b[0m\u001b[0;34m)\u001b[0m\u001b[0;34m\u001b[0m\u001b[0;34m\u001b[0m\u001b[0m\n",
            "\u001b[0;32m<ipython-input-26-bc7c7bc19ba6>\u001b[0m in \u001b[0;36mtrain\u001b[0;34m(model, train_loader, optimizer, criterion)\u001b[0m\n\u001b[1;32m      6\u001b[0m     \u001b[0mcounter\u001b[0m\u001b[0;34m=\u001b[0m\u001b[0;36m0\u001b[0m\u001b[0;34m\u001b[0m\u001b[0;34m\u001b[0m\u001b[0m\n\u001b[1;32m      7\u001b[0m     \u001b[0mrunning_correct\u001b[0m \u001b[0;34m=\u001b[0m \u001b[0;36m0\u001b[0m\u001b[0;34m\u001b[0m\u001b[0;34m\u001b[0m\u001b[0m\n\u001b[0;32m----> 8\u001b[0;31m     \u001b[0;32mfor\u001b[0m \u001b[0mi\u001b[0m\u001b[0;34m,\u001b[0m \u001b[0mdata\u001b[0m \u001b[0;32min\u001b[0m \u001b[0mtqdm\u001b[0m\u001b[0;34m(\u001b[0m\u001b[0menumerate\u001b[0m\u001b[0;34m(\u001b[0m\u001b[0mtrain_loader\u001b[0m\u001b[0;34m)\u001b[0m\u001b[0;34m,\u001b[0m \u001b[0mtotal\u001b[0m\u001b[0;34m=\u001b[0m\u001b[0mlen\u001b[0m\u001b[0;34m(\u001b[0m\u001b[0mtrain_loader\u001b[0m\u001b[0;34m)\u001b[0m\u001b[0;34m)\u001b[0m\u001b[0;34m:\u001b[0m\u001b[0;34m\u001b[0m\u001b[0;34m\u001b[0m\u001b[0m\n\u001b[0m\u001b[1;32m      9\u001b[0m         \u001b[0mcounter\u001b[0m \u001b[0;34m+=\u001b[0m \u001b[0;36m1\u001b[0m\u001b[0;34m\u001b[0m\u001b[0;34m\u001b[0m\u001b[0m\n\u001b[1;32m     10\u001b[0m         \u001b[0mX_train\u001b[0m\u001b[0;34m,\u001b[0m \u001b[0my_train\u001b[0m \u001b[0;34m=\u001b[0m \u001b[0mdata\u001b[0m\u001b[0;34m\u001b[0m\u001b[0;34m\u001b[0m\u001b[0m\n",
            "\u001b[0;32m/usr/local/lib/python3.7/dist-packages/tqdm/std.py\u001b[0m in \u001b[0;36m__iter__\u001b[0;34m(self)\u001b[0m\n\u001b[1;32m   1193\u001b[0m \u001b[0;34m\u001b[0m\u001b[0m\n\u001b[1;32m   1194\u001b[0m         \u001b[0;32mtry\u001b[0m\u001b[0;34m:\u001b[0m\u001b[0;34m\u001b[0m\u001b[0;34m\u001b[0m\u001b[0m\n\u001b[0;32m-> 1195\u001b[0;31m             \u001b[0;32mfor\u001b[0m \u001b[0mobj\u001b[0m \u001b[0;32min\u001b[0m \u001b[0miterable\u001b[0m\u001b[0;34m:\u001b[0m\u001b[0;34m\u001b[0m\u001b[0;34m\u001b[0m\u001b[0m\n\u001b[0m\u001b[1;32m   1196\u001b[0m                 \u001b[0;32myield\u001b[0m \u001b[0mobj\u001b[0m\u001b[0;34m\u001b[0m\u001b[0;34m\u001b[0m\u001b[0m\n\u001b[1;32m   1197\u001b[0m                 \u001b[0;31m# Update and possibly print the progressbar.\u001b[0m\u001b[0;34m\u001b[0m\u001b[0;34m\u001b[0m\u001b[0;34m\u001b[0m\u001b[0m\n",
            "\u001b[0;32m/usr/local/lib/python3.7/dist-packages/torch/utils/data/dataloader.py\u001b[0m in \u001b[0;36m__next__\u001b[0;34m(self)\u001b[0m\n\u001b[1;32m    679\u001b[0m                 \u001b[0;31m# TODO(https://github.com/pytorch/pytorch/issues/76750)\u001b[0m\u001b[0;34m\u001b[0m\u001b[0;34m\u001b[0m\u001b[0;34m\u001b[0m\u001b[0m\n\u001b[1;32m    680\u001b[0m                 \u001b[0mself\u001b[0m\u001b[0;34m.\u001b[0m\u001b[0m_reset\u001b[0m\u001b[0;34m(\u001b[0m\u001b[0;34m)\u001b[0m  \u001b[0;31m# type: ignore[call-arg]\u001b[0m\u001b[0;34m\u001b[0m\u001b[0;34m\u001b[0m\u001b[0m\n\u001b[0;32m--> 681\u001b[0;31m             \u001b[0mdata\u001b[0m \u001b[0;34m=\u001b[0m \u001b[0mself\u001b[0m\u001b[0;34m.\u001b[0m\u001b[0m_next_data\u001b[0m\u001b[0;34m(\u001b[0m\u001b[0;34m)\u001b[0m\u001b[0;34m\u001b[0m\u001b[0;34m\u001b[0m\u001b[0m\n\u001b[0m\u001b[1;32m    682\u001b[0m             \u001b[0mself\u001b[0m\u001b[0;34m.\u001b[0m\u001b[0m_num_yielded\u001b[0m \u001b[0;34m+=\u001b[0m \u001b[0;36m1\u001b[0m\u001b[0;34m\u001b[0m\u001b[0;34m\u001b[0m\u001b[0m\n\u001b[1;32m    683\u001b[0m             \u001b[0;32mif\u001b[0m \u001b[0mself\u001b[0m\u001b[0;34m.\u001b[0m\u001b[0m_dataset_kind\u001b[0m \u001b[0;34m==\u001b[0m \u001b[0m_DatasetKind\u001b[0m\u001b[0;34m.\u001b[0m\u001b[0mIterable\u001b[0m \u001b[0;32mand\u001b[0m\u001b[0;31m \u001b[0m\u001b[0;31m\\\u001b[0m\u001b[0;34m\u001b[0m\u001b[0;34m\u001b[0m\u001b[0m\n",
            "\u001b[0;32m/usr/local/lib/python3.7/dist-packages/torch/utils/data/dataloader.py\u001b[0m in \u001b[0;36m_next_data\u001b[0;34m(self)\u001b[0m\n\u001b[1;32m   1357\u001b[0m \u001b[0;34m\u001b[0m\u001b[0m\n\u001b[1;32m   1358\u001b[0m             \u001b[0;32massert\u001b[0m \u001b[0;32mnot\u001b[0m \u001b[0mself\u001b[0m\u001b[0;34m.\u001b[0m\u001b[0m_shutdown\u001b[0m \u001b[0;32mand\u001b[0m \u001b[0mself\u001b[0m\u001b[0;34m.\u001b[0m\u001b[0m_tasks_outstanding\u001b[0m \u001b[0;34m>\u001b[0m \u001b[0;36m0\u001b[0m\u001b[0;34m\u001b[0m\u001b[0;34m\u001b[0m\u001b[0m\n\u001b[0;32m-> 1359\u001b[0;31m             \u001b[0midx\u001b[0m\u001b[0;34m,\u001b[0m \u001b[0mdata\u001b[0m \u001b[0;34m=\u001b[0m \u001b[0mself\u001b[0m\u001b[0;34m.\u001b[0m\u001b[0m_get_data\u001b[0m\u001b[0;34m(\u001b[0m\u001b[0;34m)\u001b[0m\u001b[0;34m\u001b[0m\u001b[0;34m\u001b[0m\u001b[0m\n\u001b[0m\u001b[1;32m   1360\u001b[0m             \u001b[0mself\u001b[0m\u001b[0;34m.\u001b[0m\u001b[0m_tasks_outstanding\u001b[0m \u001b[0;34m-=\u001b[0m \u001b[0;36m1\u001b[0m\u001b[0;34m\u001b[0m\u001b[0;34m\u001b[0m\u001b[0m\n\u001b[1;32m   1361\u001b[0m             \u001b[0;32mif\u001b[0m \u001b[0mself\u001b[0m\u001b[0;34m.\u001b[0m\u001b[0m_dataset_kind\u001b[0m \u001b[0;34m==\u001b[0m \u001b[0m_DatasetKind\u001b[0m\u001b[0;34m.\u001b[0m\u001b[0mIterable\u001b[0m\u001b[0;34m:\u001b[0m\u001b[0;34m\u001b[0m\u001b[0;34m\u001b[0m\u001b[0m\n",
            "\u001b[0;32m/usr/local/lib/python3.7/dist-packages/torch/utils/data/dataloader.py\u001b[0m in \u001b[0;36m_get_data\u001b[0;34m(self)\u001b[0m\n\u001b[1;32m   1313\u001b[0m         \u001b[0;32melif\u001b[0m \u001b[0mself\u001b[0m\u001b[0;34m.\u001b[0m\u001b[0m_pin_memory\u001b[0m\u001b[0;34m:\u001b[0m\u001b[0;34m\u001b[0m\u001b[0;34m\u001b[0m\u001b[0m\n\u001b[1;32m   1314\u001b[0m             \u001b[0;32mwhile\u001b[0m \u001b[0mself\u001b[0m\u001b[0;34m.\u001b[0m\u001b[0m_pin_memory_thread\u001b[0m\u001b[0;34m.\u001b[0m\u001b[0mis_alive\u001b[0m\u001b[0;34m(\u001b[0m\u001b[0;34m)\u001b[0m\u001b[0;34m:\u001b[0m\u001b[0;34m\u001b[0m\u001b[0;34m\u001b[0m\u001b[0m\n\u001b[0;32m-> 1315\u001b[0;31m                 \u001b[0msuccess\u001b[0m\u001b[0;34m,\u001b[0m \u001b[0mdata\u001b[0m \u001b[0;34m=\u001b[0m \u001b[0mself\u001b[0m\u001b[0;34m.\u001b[0m\u001b[0m_try_get_data\u001b[0m\u001b[0;34m(\u001b[0m\u001b[0;34m)\u001b[0m\u001b[0;34m\u001b[0m\u001b[0;34m\u001b[0m\u001b[0m\n\u001b[0m\u001b[1;32m   1316\u001b[0m                 \u001b[0;32mif\u001b[0m \u001b[0msuccess\u001b[0m\u001b[0;34m:\u001b[0m\u001b[0;34m\u001b[0m\u001b[0;34m\u001b[0m\u001b[0m\n\u001b[1;32m   1317\u001b[0m                     \u001b[0;32mreturn\u001b[0m \u001b[0mdata\u001b[0m\u001b[0;34m\u001b[0m\u001b[0;34m\u001b[0m\u001b[0m\n",
            "\u001b[0;32m/usr/local/lib/python3.7/dist-packages/torch/utils/data/dataloader.py\u001b[0m in \u001b[0;36m_try_get_data\u001b[0;34m(self, timeout)\u001b[0m\n\u001b[1;32m   1161\u001b[0m         \u001b[0;31m#   (bool: whether successfully get data, any: data if successful else None)\u001b[0m\u001b[0;34m\u001b[0m\u001b[0;34m\u001b[0m\u001b[0;34m\u001b[0m\u001b[0m\n\u001b[1;32m   1162\u001b[0m         \u001b[0;32mtry\u001b[0m\u001b[0;34m:\u001b[0m\u001b[0;34m\u001b[0m\u001b[0;34m\u001b[0m\u001b[0m\n\u001b[0;32m-> 1163\u001b[0;31m             \u001b[0mdata\u001b[0m \u001b[0;34m=\u001b[0m \u001b[0mself\u001b[0m\u001b[0;34m.\u001b[0m\u001b[0m_data_queue\u001b[0m\u001b[0;34m.\u001b[0m\u001b[0mget\u001b[0m\u001b[0;34m(\u001b[0m\u001b[0mtimeout\u001b[0m\u001b[0;34m=\u001b[0m\u001b[0mtimeout\u001b[0m\u001b[0;34m)\u001b[0m\u001b[0;34m\u001b[0m\u001b[0;34m\u001b[0m\u001b[0m\n\u001b[0m\u001b[1;32m   1164\u001b[0m             \u001b[0;32mreturn\u001b[0m \u001b[0;34m(\u001b[0m\u001b[0;32mTrue\u001b[0m\u001b[0;34m,\u001b[0m \u001b[0mdata\u001b[0m\u001b[0;34m)\u001b[0m\u001b[0;34m\u001b[0m\u001b[0;34m\u001b[0m\u001b[0m\n\u001b[1;32m   1165\u001b[0m         \u001b[0;32mexcept\u001b[0m \u001b[0mException\u001b[0m \u001b[0;32mas\u001b[0m \u001b[0me\u001b[0m\u001b[0;34m:\u001b[0m\u001b[0;34m\u001b[0m\u001b[0;34m\u001b[0m\u001b[0m\n",
            "\u001b[0;32m/usr/lib/python3.7/queue.py\u001b[0m in \u001b[0;36mget\u001b[0;34m(self, block, timeout)\u001b[0m\n\u001b[1;32m    177\u001b[0m                     \u001b[0;32mif\u001b[0m \u001b[0mremaining\u001b[0m \u001b[0;34m<=\u001b[0m \u001b[0;36m0.0\u001b[0m\u001b[0;34m:\u001b[0m\u001b[0;34m\u001b[0m\u001b[0;34m\u001b[0m\u001b[0m\n\u001b[1;32m    178\u001b[0m                         \u001b[0;32mraise\u001b[0m \u001b[0mEmpty\u001b[0m\u001b[0;34m\u001b[0m\u001b[0;34m\u001b[0m\u001b[0m\n\u001b[0;32m--> 179\u001b[0;31m                     \u001b[0mself\u001b[0m\u001b[0;34m.\u001b[0m\u001b[0mnot_empty\u001b[0m\u001b[0;34m.\u001b[0m\u001b[0mwait\u001b[0m\u001b[0;34m(\u001b[0m\u001b[0mremaining\u001b[0m\u001b[0;34m)\u001b[0m\u001b[0;34m\u001b[0m\u001b[0;34m\u001b[0m\u001b[0m\n\u001b[0m\u001b[1;32m    180\u001b[0m             \u001b[0mitem\u001b[0m \u001b[0;34m=\u001b[0m \u001b[0mself\u001b[0m\u001b[0;34m.\u001b[0m\u001b[0m_get\u001b[0m\u001b[0;34m(\u001b[0m\u001b[0;34m)\u001b[0m\u001b[0;34m\u001b[0m\u001b[0;34m\u001b[0m\u001b[0m\n\u001b[1;32m    181\u001b[0m             \u001b[0mself\u001b[0m\u001b[0;34m.\u001b[0m\u001b[0mnot_full\u001b[0m\u001b[0;34m.\u001b[0m\u001b[0mnotify\u001b[0m\u001b[0;34m(\u001b[0m\u001b[0;34m)\u001b[0m\u001b[0;34m\u001b[0m\u001b[0;34m\u001b[0m\u001b[0m\n",
            "\u001b[0;32m/usr/lib/python3.7/threading.py\u001b[0m in \u001b[0;36mwait\u001b[0;34m(self, timeout)\u001b[0m\n\u001b[1;32m    298\u001b[0m             \u001b[0;32melse\u001b[0m\u001b[0;34m:\u001b[0m\u001b[0;34m\u001b[0m\u001b[0;34m\u001b[0m\u001b[0m\n\u001b[1;32m    299\u001b[0m                 \u001b[0;32mif\u001b[0m \u001b[0mtimeout\u001b[0m \u001b[0;34m>\u001b[0m \u001b[0;36m0\u001b[0m\u001b[0;34m:\u001b[0m\u001b[0;34m\u001b[0m\u001b[0;34m\u001b[0m\u001b[0m\n\u001b[0;32m--> 300\u001b[0;31m                     \u001b[0mgotit\u001b[0m \u001b[0;34m=\u001b[0m \u001b[0mwaiter\u001b[0m\u001b[0;34m.\u001b[0m\u001b[0macquire\u001b[0m\u001b[0;34m(\u001b[0m\u001b[0;32mTrue\u001b[0m\u001b[0;34m,\u001b[0m \u001b[0mtimeout\u001b[0m\u001b[0;34m)\u001b[0m\u001b[0;34m\u001b[0m\u001b[0;34m\u001b[0m\u001b[0m\n\u001b[0m\u001b[1;32m    301\u001b[0m                 \u001b[0;32melse\u001b[0m\u001b[0;34m:\u001b[0m\u001b[0;34m\u001b[0m\u001b[0;34m\u001b[0m\u001b[0m\n\u001b[1;32m    302\u001b[0m                     \u001b[0mgotit\u001b[0m \u001b[0;34m=\u001b[0m \u001b[0mwaiter\u001b[0m\u001b[0;34m.\u001b[0m\u001b[0macquire\u001b[0m\u001b[0;34m(\u001b[0m\u001b[0;32mFalse\u001b[0m\u001b[0;34m)\u001b[0m\u001b[0;34m\u001b[0m\u001b[0;34m\u001b[0m\u001b[0m\n",
            "\u001b[0;31mKeyboardInterrupt\u001b[0m: "
          ]
        }
      ]
    },
    {
      "cell_type": "markdown",
      "source": [
        "## Prediction / Evaluation \n",
        "\n",
        "Evaluation by using:\n",
        "1. accurancy, precision and recall (PR curve)\n",
        "2. confusion matrix (visualised)\n",
        "3. ROC (optional)"
      ],
      "metadata": {
        "id": "CY9XHfD4y8yD"
      }
    },
    {
      "cell_type": "code",
      "source": [
        "# load the best model checkpoint\n",
        "best_model_cp = torch.load('outputs/best_model.pth')\n",
        "best_model_epoch = best_model_cp['epoch']\n",
        "print(f\"Best model was saved at {best_model_epoch} epochs\\n\")\n",
        "\n",
        "# load the last model checkpoint\n",
        "last_model_cp = torch.load('outputs/final_model.pth')\n",
        "last_model_epoch = last_model_cp['epoch']\n",
        "print(f\"Last model was saved at {last_model_epoch} epochs\\n\")"
      ],
      "metadata": {
        "id": "uBPB0tHgb-Lq"
      },
      "execution_count": null,
      "outputs": []
    },
    {
      "cell_type": "code",
      "source": [
        "def test(model, test_loader):\n",
        "    model.eval()\n",
        "    print('===== Testing =====')\n",
        "    valid_running_correct = 0\n",
        "    counter = 0 # batch no\n",
        "    nb_classes = 3\n",
        "    confusion_matrix = torch.zeros(nb_classes, nb_classes)\n",
        "\n",
        "    with torch.no_grad():\n",
        "        for i, data in tqdm(enumerate(test_loader), total=len(test_loader)):\n",
        "            counter += 1\n",
        "            \n",
        "            X_test, y_test = data\n",
        "            X_test = X_test.to(device)\n",
        "            y_test = y_test.to(device)\n",
        "            # forward pass\n",
        "            outputs = model(X_test)\n",
        "\n",
        "            # calculate the accuracy\n",
        "            _, preds = torch.max(outputs.data, 1)\n",
        "            valid_running_correct += (preds == y_test).sum().item()\n",
        "            \n",
        "            # get true and predict:\n",
        "            for t, p in zip(y_test.view(-1), preds.view(-1)):\n",
        "                confusion_matrix[t.long(), p.long()] += 1\n",
        "        \n",
        "    # loss and accuracy for the complete epoch\n",
        "    final_acc = 100. * (valid_running_correct / len(test_loader.dataset))\n",
        "    return final_acc, confusion_matrix"
      ],
      "metadata": {
        "id": "5SJqrn2IcJBR"
      },
      "execution_count": null,
      "outputs": []
    },
    {
      "cell_type": "code",
      "source": [
        "# test two ckpts\n",
        "\n",
        "def test_last_model(model, checkpoint, test_loader):\n",
        "    print('Loading last epoch saved model weights...')\n",
        "    model.load_state_dict(checkpoint['model_state_dict'])\n",
        "    test_acc, confusion_matrix = test(model, test_loader)\n",
        "    print(f\"Last epoch saved model accuracy: {test_acc:.3f}\")\n",
        "    creat_viz_cm(confusion_matrix, label2class)\n",
        "\n",
        "# test the best epoch saved model\n",
        "def test_best_model(model, checkpoint, test_loader):\n",
        "    print('Loading best epoch saved model weights...')\n",
        "    model.load_state_dict(checkpoint['model_state_dict'])\n",
        "    test_acc, confusion_matrix = test(model, test_loader)\n",
        "    print(f\"Best epoch saved model accuracy: {test_acc:.3f}\")\n",
        "    creat_viz_cm(confusion_matrix, label2class)"
      ],
      "metadata": {
        "id": "iRQ0VP1VB1d2"
      },
      "execution_count": null,
      "outputs": []
    },
    {
      "cell_type": "code",
      "source": [
        "# run test\n",
        "test_last_model(net, last_model_cp, test_loader)\n",
        "\n",
        "test_best_model(net, best_model_cp, test_loader)"
      ],
      "metadata": {
        "id": "B3Ra82A5B1We"
      },
      "execution_count": null,
      "outputs": []
    },
    {
      "cell_type": "code",
      "source": [],
      "metadata": {
        "id": "bpEJmPk0B1UA"
      },
      "execution_count": null,
      "outputs": []
    },
    {
      "cell_type": "code",
      "source": [],
      "metadata": {
        "id": "wwZZeCSbB1KL"
      },
      "execution_count": null,
      "outputs": []
    },
    {
      "cell_type": "markdown",
      "source": [
        "#### Comapre with models in torchvision (resnet18 etc...)"
      ],
      "metadata": {
        "id": "r8wvLzv5ahIj"
      }
    },
    {
      "cell_type": "code",
      "source": [
        "from torchvision import models"
      ],
      "metadata": {
        "id": "pfqOM6AKaOv9"
      },
      "execution_count": null,
      "outputs": []
    },
    {
      "cell_type": "code",
      "source": [
        "model = models.resnet18(pretrained=True) \n",
        "\n",
        "# model = models.resnet152(pretrained=True)"
      ],
      "metadata": {
        "colab": {
          "base_uri": "https://localhost:8080/",
          "height": 158,
          "referenced_widgets": [
            "30059e7f76554edeaebfde0ed47cb22d",
            "0f32b89aee684497aeda207ea4168afb",
            "51ed36da4009415eb75ea2e10b540dfc",
            "74fdfbff676e4c3c830f45592759cc47",
            "582f0ee5e71a49aba6e4cf92e4fa5159",
            "a217e1bf7c1144449e17af9deb1be2b3",
            "94dd1f666dfb401c972d62063d271db8",
            "c35923bf34be437cb4057856dd450651",
            "eebff500f8174452a20b5f7afbaae825",
            "56fd522c16f5433ca34dc92971b713d5",
            "9d624b2e9ea14d87ad56380ba0f6b9c6"
          ]
        },
        "id": "16sAOirB2jlk",
        "outputId": "31a1b233-36b0-4ef9-c10b-a04a75646d0d"
      },
      "execution_count": null,
      "outputs": [
        {
          "output_type": "stream",
          "name": "stderr",
          "text": [
            "/usr/local/lib/python3.7/dist-packages/torchvision/models/_utils.py:209: UserWarning: The parameter 'pretrained' is deprecated since 0.13 and will be removed in 0.15, please use 'weights' instead.\n",
            "  f\"The parameter '{pretrained_param}' is deprecated since 0.13 and will be removed in 0.15, \"\n",
            "/usr/local/lib/python3.7/dist-packages/torchvision/models/_utils.py:223: UserWarning: Arguments other than a weight enum or `None` for 'weights' are deprecated since 0.13 and will be removed in 0.15. The current behavior is equivalent to passing `weights=ResNet18_Weights.IMAGENET1K_V1`. You can also use `weights=ResNet18_Weights.DEFAULT` to get the most up-to-date weights.\n",
            "  warnings.warn(msg)\n",
            "Downloading: \"https://download.pytorch.org/models/resnet18-f37072fd.pth\" to /root/.cache/torch/hub/checkpoints/resnet18-f37072fd.pth\n"
          ]
        },
        {
          "output_type": "display_data",
          "data": {
            "text/plain": [
              "  0%|          | 0.00/44.7M [00:00<?, ?B/s]"
            ],
            "application/vnd.jupyter.widget-view+json": {
              "version_major": 2,
              "version_minor": 0,
              "model_id": "30059e7f76554edeaebfde0ed47cb22d"
            }
          },
          "metadata": {}
        }
      ]
    },
    {
      "cell_type": "code",
      "source": [
        "model = model.eval()\n",
        "model = model.to(device)"
      ],
      "metadata": {
        "id": "pzj7ehur2jje"
      },
      "execution_count": null,
      "outputs": []
    },
    {
      "cell_type": "code",
      "source": [],
      "metadata": {
        "id": "Z1Obj_MA2jc0"
      },
      "execution_count": null,
      "outputs": []
    },
    {
      "cell_type": "code",
      "source": [],
      "metadata": {
        "id": "SkEC8GFS2iI3"
      },
      "execution_count": null,
      "outputs": []
    },
    {
      "cell_type": "code",
      "source": [],
      "metadata": {
        "id": "YmXsuMrmaR1m"
      },
      "execution_count": null,
      "outputs": []
    },
    {
      "cell_type": "code",
      "source": [],
      "metadata": {
        "id": "8G5cwE4paW-S"
      },
      "execution_count": null,
      "outputs": []
    },
    {
      "cell_type": "markdown",
      "source": [],
      "metadata": {
        "id": "Z1L8oNCwaXfm"
      }
    }
  ]
}