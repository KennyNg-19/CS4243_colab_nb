{
  "cells": [
    {
      "cell_type": "markdown",
      "metadata": {
        "colab_type": "text",
        "id": "view-in-github"
      },
      "source": [
        "<a href=\"https://colab.research.google.com/github/KennyNg-19/colab_nb/blob/main/CS4243template.ipynb\" target=\"_parent\"><img src=\"https://colab.research.google.com/assets/colab-badge.svg\" alt=\"Open In Colab\"/></a>"
      ]
    },
    {
      "cell_type": "markdown",
      "metadata": {
        "id": "TlplzsytZPSN"
      },
      "source": [
        "# CS4243\n",
        "## Image Classification\n",
        "\n",
        "### Three classes: normal, carrying, threat\n"
      ]
    },
    {
      "cell_type": "markdown",
      "metadata": {
        "id": "YGFfjX2m9GdU"
      },
      "source": [
        "# TODO:\n",
        "1. need to somehow load data and potentially use dataloader to split batch\n",
        "2. a DF ideally contains file names and label"
      ]
    },
    {
      "cell_type": "code",
      "execution_count": null,
      "metadata": {
        "id": "Edyk2XOh3R_b"
      },
      "outputs": [],
      "source": [
        "# !pip install google-colab"
      ]
    },
    {
      "cell_type": "code",
      "execution_count": 1,
      "metadata": {
        "colab": {
          "base_uri": "https://localhost:8080/"
        },
        "id": "8ljHixTNvfb7",
        "outputId": "95825e08-5f0c-4e40-b7b3-aafdcc6d5332"
      },
      "outputs": [],
      "source": [
        "# from google.colab import drive\n",
        "# drive.mount('/content/drive')\n",
        "# # %cd /content/drive/My Drive/Colab Notebooks/cs4243_smallest # Kenny Path\n",
        "# %cd /content/drive/My Drive/cs4243_smallest \n",
        "# # QINI path\n",
        "\n",
        "# !ls"
      ]
    },
    {
      "cell_type": "markdown",
      "metadata": {
        "id": "EnFh9Tn-Z4sd"
      },
      "source": [
        "### Import Library"
      ]
    },
    {
      "cell_type": "code",
      "execution_count": 2,
      "metadata": {
        "id": "8d9hBaNBZMEs"
      },
      "outputs": [],
      "source": [
        "import os\n",
        "from PIL import Image\n",
        "import cv2\n",
        "\n",
        "import pandas as pd\n",
        "import numpy as np\n",
        "import seaborn as sns\n",
        "\n",
        "import torch\n",
        "from torch.utils.data import Dataset\n",
        "from torch.utils.data import DataLoader\n",
        "from torchvision import transforms\n",
        "import torchvision\n",
        "import torch.nn as nn\n",
        "import torch.nn.functional as F\n",
        "import torch.optim as optim\n",
        "\n",
        "import matplotlib.pyplot as plt\n",
        "%matplotlib inline\n",
        "\n",
        "from sklearn.model_selection import train_test_split\n",
        "from sklearn.metrics import precision_recall_fscore_support\n",
        "from sklearn.utils.class_weight import compute_sample_weight\n",
        "\n",
        "from random import randint\n",
        "import random\n",
        "\n",
        "from tqdm import tqdm\n",
        "\n",
        "import time\n",
        "\n",
        "def seed_torch(seed=3):\n",
        "    random.seed(seed)\n",
        "    os.environ['PYTHONHASHSEED'] = str(seed) \n",
        "    np.random.seed(seed)\n",
        "    torch.manual_seed(seed)\n",
        "    torch.cuda.manual_seed(seed)\n",
        "    torch.cuda.manual_seed_all(seed)  # if you are using multi-GPU.\n",
        "    torch.backends.cudnn.benchmark = False\n",
        "    torch.backends.cudnn.deterministic = True\n",
        "\n",
        "\n",
        "# torch.use_deterministic_algorithms(True)\n",
        "seed_torch()"
      ]
    },
    {
      "cell_type": "code",
      "execution_count": 3,
      "metadata": {
        "colab": {
          "base_uri": "https://localhost:8080/"
        },
        "id": "djsK2DWZZtMd",
        "outputId": "ce03aefd-dcfd-4b4d-a420-1666037a9570"
      },
      "outputs": [
        {
          "name": "stdout",
          "output_type": "stream",
          "text": [
            "device cpu\n"
          ]
        }
      ],
      "source": [
        "# gpu setting\n",
        "device = torch.device('cuda:0' if torch.cuda.is_available() else 'cpu')\n",
        "print('device', device)"
      ]
    },
    {
      "cell_type": "markdown",
      "metadata": {
        "id": "Uicp0Iu20i_G"
      },
      "source": [
        "### Helper Functions"
      ]
    },
    {
      "cell_type": "code",
      "execution_count": 4,
      "metadata": {
        "id": "g1GG8MvlZnBA"
      },
      "outputs": [],
      "source": [
        "# Class to save the best model while training - \"best_model\"\n",
        "class SaveBestModel:\n",
        "    def __init__(\n",
        "        self, save_path = \"outputs\", best_valid_loss=float('inf')\n",
        "    ):\n",
        "        self.best_valid_loss = best_valid_loss\n",
        "        self.save_path = save_path\n",
        "        # 别忘了创建目录\n",
        "        if not os.path.exists(save_path):\n",
        "            !mkdir $save_path\n",
        "            print(f\"create {save_path}/ dir\")\n",
        "            \n",
        "    def __call__(\n",
        "        self, current_valid_loss, \n",
        "        epoch, model, optimizer, criterion\n",
        "    ):\n",
        "        if current_valid_loss < self.best_valid_loss:\n",
        "            self.best_valid_loss = current_valid_loss\n",
        "            print(f\"\\nBest validation loss: {self.best_valid_loss}\")\n",
        "            print(f\"\\nSaving best model for epoch: {epoch+1}\\n\")\n",
        "            torch.save({\n",
        "                'epoch': epoch+1,\n",
        "                'model_state_dict': model.state_dict(),\n",
        "                'optimizer_state_dict': optimizer.state_dict(),\n",
        "                'loss': criterion,\n",
        "                }, f'{self.save_path}/best_model.pth')\n",
        "            \n",
        "def save_model(epochs, model, optimizer, criterion, save_path='outputs'):\n",
        "    print(f\"Saving final model...\")\n",
        "    torch.save({\n",
        "                'epoch': epochs,\n",
        "                'model_state_dict': model.state_dict(),\n",
        "                'optimizer_state_dict': optimizer.state_dict(),\n",
        "                'loss': criterion,\n",
        "                }, f'{save_path}/final_model.pth')"
      ]
    },
    {
      "cell_type": "code",
      "execution_count": 5,
      "metadata": {
        "id": "vJYonhtia1td"
      },
      "outputs": [],
      "source": [
        "# more info for the poster:\n",
        "plt.style.use('ggplot')\n",
        "\n",
        "def save_plots(train_acc, valid_acc, train_loss, valid_loss, model_name=\"\", optimizer='', save_path='outputs'):\n",
        "    # loss\n",
        "    fig = plt.figure(figsize=(7, 5))\n",
        "    plt.plot(\n",
        "        train_loss, color='orange', linestyle='-', \n",
        "        label='train loss'\n",
        "    )\n",
        "    plt.plot(\n",
        "        valid_loss, color='red', linestyle='-', \n",
        "        label='validataion loss'\n",
        "    )\n",
        "\n",
        "    fig.suptitle('model:'+model_name+\" \"+optimizer, fontsize=20)\n",
        "    plt.xlabel('Epochs')\n",
        "    plt.ylabel('Loss')\n",
        "    plt.legend()\n",
        "    plt.savefig(f'{save_path}/loss.png')\n",
        "    \n",
        "    # accuracy\n",
        "    fig = plt.figure(figsize=(7, 5))\n",
        "    plt.plot(\n",
        "        train_acc, color='green', linestyle='-', \n",
        "        label='train accuracy'\n",
        "    )\n",
        "    plt.plot(\n",
        "        valid_acc, color='blue', linestyle='-', \n",
        "        label='validataion accuracy'\n",
        "    )\n",
        "    \n",
        "    fig.suptitle('model:'+model_name+\" \"+optimizer, fontsize=20)\n",
        "    plt.xlabel('Epochs')\n",
        "    plt.ylabel('Accuracy')\n",
        "    plt.legend()\n",
        "    plt.savefig(f'{save_path}/accuracy.png')\n",
        "    \n",
        "\n",
        "def creat_viz_cm(confusion_matrix, label2class, title, save_path='outputs'):\n",
        "    plt.figure(figsize=(7, 5))\n",
        "    plt.suptitle(title, fontsize=15)\n",
        "\n",
        "    class_names = list(label2class.values())\n",
        "    df_cm = pd.DataFrame(confusion_matrix, index=class_names, columns=class_names).astype(int)\n",
        "    heatmap = sns.heatmap(df_cm, annot=True, fmt=\"d\")\n",
        "\n",
        "    heatmap.yaxis.set_ticklabels(heatmap.yaxis.get_ticklabels(), rotation=0, ha='right',fontsize=8)\n",
        "    heatmap.xaxis.set_ticklabels(heatmap.xaxis.get_ticklabels(), rotation=45, ha='right',fontsize=8)\n",
        "    plt.ylabel('True label')\n",
        "    plt.xlabel('Predicted label')\n",
        "    print(f\"save as {save_path}/{title}_confmat.png\")\n",
        "    plt.savefig(f'{save_path}/{title}_confmat.png')"
      ]
    },
    {
      "cell_type": "markdown",
      "metadata": {
        "id": "DR5rxDRoZ2-H"
      },
      "source": [
        "### Loading the image and preprocessing\n",
        "Scaling and cropping, image enhancement, transformation to Tensor, normalization"
      ]
    },
    {
      "cell_type": "code",
      "execution_count": null,
      "metadata": {
        "id": "vzzemEil2skw"
      },
      "outputs": [],
      "source": []
    },
    {
      "cell_type": "markdown",
      "metadata": {
        "id": "IJtBgz6fZgPy"
      },
      "source": [
        "从输入到最后一个卷积特征feature map，就是进行信息抽象的过程，然后就经过全连接层/全局池化层的变换进行分类了，这个feature map的大小，可以是3*3，5*5，7*7等等。在这些尺寸中，如果尺寸太小，那么信息就丢失太严重，如果尺寸太大，信息的抽象层次不够高，计算量也更大，所以7*7的kernel大小是一个最好的平衡。\n",
        "\n",
        "另一方面，图像从大分辨率降低到小分辨率，降低倍数通常是2的指数次方，所以图像的输入是 kernel size *2的指数次方。"
      ]
    },
    {
      "cell_type": "code",
      "execution_count": 6,
      "metadata": {
        "colab": {
          "base_uri": "https://localhost:8080/"
        },
        "id": "qVz49DNt4MbK",
        "outputId": "be63cc06-70b2-4f4d-ef37-cd4643f63f14"
      },
      "outputs": [
        {
          "data": {
            "text/plain": [
              "(['normal', 'carrying', 'threat'], [0, 1, 2])"
            ]
          },
          "execution_count": 6,
          "metadata": {},
          "output_type": "execute_result"
        }
      ],
      "source": [
        "#labels\n",
        "class2label = {'normal':0, 'carrying':1, 'threat':2}\n",
        "label2class = {0:'normal', 1:'carrying', 2:'threat'}\n",
        "classes = list(class2label.keys()) # keep the orders\n",
        "class_int = list(class2label.values())\n",
        "classes, class_int\n"
      ]
    },
    {
      "cell_type": "markdown",
      "metadata": {
        "id": "wNvVA41sAhw8"
      },
      "source": [
        "#### generate DataFrame for whole dataset"
      ]
    },
    {
      "cell_type": "code",
      "execution_count": 7,
      "metadata": {
        "colab": {
          "base_uri": "https://localhost:8080/",
          "height": 260
        },
        "id": "kbdx6GIQAkbL",
        "outputId": "8cd07202-248e-4d00-e038-1ce821fa3623"
      },
      "outputs": [
        {
          "name": "stdout",
          "output_type": "stream",
          "text": [
            "here is class: normal 1857\n",
            "here is class: carrying 1535\n",
            "here is class: threat 1551\n"
          ]
        },
        {
          "data": {
            "text/html": [
              "<div>\n",
              "<style scoped>\n",
              "    .dataframe tbody tr th:only-of-type {\n",
              "        vertical-align: middle;\n",
              "    }\n",
              "\n",
              "    .dataframe tbody tr th {\n",
              "        vertical-align: top;\n",
              "    }\n",
              "\n",
              "    .dataframe thead th {\n",
              "        text-align: right;\n",
              "    }\n",
              "</style>\n",
              "<table border=\"1\" class=\"dataframe\">\n",
              "  <thead>\n",
              "    <tr style=\"text-align: right;\">\n",
              "      <th></th>\n",
              "      <th>ID</th>\n",
              "      <th>Label</th>\n",
              "    </tr>\n",
              "  </thead>\n",
              "  <tbody>\n",
              "    <tr>\n",
              "      <th>0</th>\n",
              "      <td>A0204754H_20220903_normal_12340.38628_100.png</td>\n",
              "      <td>0</td>\n",
              "    </tr>\n",
              "    <tr>\n",
              "      <th>1</th>\n",
              "      <td>0204722_normal_12340.35267_30.png</td>\n",
              "      <td>0</td>\n",
              "    </tr>\n",
              "    <tr>\n",
              "      <th>2</th>\n",
              "      <td>0217792_20220904_normal_32520.027375_200.png</td>\n",
              "      <td>0</td>\n",
              "    </tr>\n",
              "    <tr>\n",
              "      <th>3</th>\n",
              "      <td>A0199420B_20220822_normal_27680.34381_200.png</td>\n",
              "      <td>0</td>\n",
              "    </tr>\n",
              "    <tr>\n",
              "      <th>4</th>\n",
              "      <td>A0190259Y_20220820_normal_10410.47184_100.png</td>\n",
              "      <td>0</td>\n",
              "    </tr>\n",
              "  </tbody>\n",
              "</table>\n",
              "</div>"
            ],
            "text/plain": [
              "                                              ID  Label\n",
              "0  A0204754H_20220903_normal_12340.38628_100.png      0\n",
              "1              0204722_normal_12340.35267_30.png      0\n",
              "2   0217792_20220904_normal_32520.027375_200.png      0\n",
              "3  A0199420B_20220822_normal_27680.34381_200.png      0\n",
              "4  A0190259Y_20220820_normal_10410.47184_100.png      0"
            ]
          },
          "execution_count": 7,
          "metadata": {},
          "output_type": "execute_result"
        }
      ],
      "source": [
        "\n",
        "img_names = [] # ID\n",
        "targets = [] # labels\n",
        "\n",
        "\n",
        "# check path locally or Colab\n",
        "colab_path = \"/content/drive/My Drive/cs4243_smallest\" # qini path\n",
        "if os.path.exists(colab_path):\n",
        "    root_path = colab_path\n",
        "else:\n",
        "    root_path='.' # locally\n",
        "\n",
        "# Mapping all img names & labels, 也是按照 classes顺序， ['normal', 'carrying', 'threat'] [0,1,2]\n",
        "for class_path in classes:                    \n",
        "    \n",
        "    # print(class_path)\n",
        "    path = os.path.join(root_path, class_path)\n",
        "    # 加上label_class_path\n",
        "    # img_names += [ class_path + \"/\" + img_name for img_name in os.listdir(path)]\n",
        "    print('here is class:', class_path, len(os.listdir(path)))\n",
        "    img_names += os.listdir(path)\n",
        "    # print(os.listdir(self.path))\n",
        "    targets += [class2label[class_path]] * len(os.listdir(path)) # all labels = 0 or 1 or 2\n",
        "\n",
        "# idx 完全mapping\n",
        "assert len(img_names) == len(targets), f'wrong no of all imgs, {len(img_names)}, {len(targets)}'\n",
        "df = pd.DataFrame({'ID':img_names, 'Label': targets})\n",
        "df.head()\n"
      ]
    },
    {
      "cell_type": "code",
      "execution_count": 8,
      "metadata": {
        "colab": {
          "base_uri": "https://localhost:8080/"
        },
        "id": "-zsQdAcIB5w7",
        "outputId": "01da02af-c7e4-4396-e0f8-79de5569c9ea"
      },
      "outputs": [
        {
          "name": "stdout",
          "output_type": "stream",
          "text": [
            "0    0.375569\n",
            "2    0.313859\n",
            "1    0.310572\n",
            "Name: Label, dtype: float64\n",
            "0    0.376138\n",
            "2    0.313448\n",
            "1    0.310415\n",
            "Name: Label, dtype: float64\n"
          ]
        }
      ],
      "source": [
        "# split into df of train / test \n",
        "y = df['Label']\n",
        "X = df\n",
        "\n",
        "\n",
        "# torch.utils.data.random_split只是随机分，没有按照类别Stratified，比例：1857 ： 1535 ：1551\n",
        "# train_df, test_df = torch.utils.data.random_split(dataset, [train_size, test_size])\n",
        "\n",
        "# 按照8:2\n",
        "train_df, test_df, train_label, test_label = train_test_split(X, y, stratify=y, shuffle=True, test_size=0.2,\n",
        "                                                              random_state=3) \n",
        "# test_df, val_df, test_label, val_label = train_test_split(test_df, test_label, stratify=test_label, test_size=0.5)\n",
        "\n",
        "# 一定要resetindex, 给loader喂进去之前\n",
        "train_df.reset_index(drop=True, inplace=True)\n",
        "\n",
        "test_df.reset_index(drop=True, inplace=True)\n",
        "\n",
        "# test_df, val_df, test_label, val_label = train_test_split(test_df, test_label, stratify=test_label, test_size=0.5)\n",
        "# val_df.reset_index(drop=True, inplace=True)\n",
        "# print(val_df.Label.value_counts()/val_df.Label.value_counts().sum())\n",
        "\n",
        "# check Stratified split, 的class分布\n",
        "print(train_df.Label.value_counts()/train_df.Label.value_counts().sum())\n",
        "\n",
        "print(test_df.Label.value_counts()/test_df.Label.value_counts().sum())\n",
        "\n"
      ]
    },
    {
      "cell_type": "markdown",
      "metadata": {
        "id": "vIRVPlx0BOCA"
      },
      "source": [
        "#### Image preporcess: transform"
      ]
    },
    {
      "cell_type": "code",
      "execution_count": 9,
      "metadata": {
        "id": "8AYOLPJbBQZ0"
      },
      "outputs": [],
      "source": [
        "# ImageNet的 mean & std\n",
        "# mean=[0.485, 0.456, 0.406]\n",
        "# std=[0.229, 0.224, 0.225]\n",
        "\n",
        "# 拿了某一次 split后的train df算的，比起其他数据集的，算更  贴切了\n",
        "mean = [0.4098, 0.4207, 0.4142]\n",
        "std = [0.2732, 0.2746, 0.2714]\n",
        "normalize = transforms.Normalize(mean, std)\n",
        "# mean, std = (0.5, 0.5, 0.5), (0.5, 0.5, 0.5)\n",
        "# normalize = transforms.Normalize((0.5, 0.5, 0.5), (0.5, 0.5, 0.5))\n",
        "\n",
        "resize_H, resized_W = 7*2**5, 7*2**5 # 如果是toTensor前，最后一个transform操作(即输入到模型的input shape)，最好是kerel size, 3/5/7,* 2的指数次方\n",
        "resize = transforms.Resize([resize_H, resized_W])\n",
        "# resize = transforms.Resize([resize_H, resized_W],interpolation=torchvision.transforms.InterpolationMode.BILINEAR)\n",
        "\n",
        "# 7*2**5=224\n",
        "crop_H, crop_W = 7*2**5, 7*2**5 # 如果是toTensor前，最后一个transform操作(即输入到模型的input shape)，最好是kerel size, 3/5/7,* 2的指数次方\n",
        "cent_crop = transforms.CenterCrop([crop_H, crop_W])\n",
        "\n",
        "transformations = transforms.Compose([resize,\n",
        "                                    #  cent_crop,\n",
        "                                    transforms.ToTensor(), # Tturn gray level from 0-255 into 0-1\n",
        "                                    normalize])  #  change 0-1 into (-1, 1)"
      ]
    },
    {
      "cell_type": "markdown",
      "metadata": {
        "id": "YbMLjN1_BCtf"
      },
      "source": [
        "#### Build Dataset & DataLoader"
      ]
    },
    {
      "cell_type": "code",
      "execution_count": 10,
      "metadata": {
        "id": "VROivFpxB_Ud"
      },
      "outputs": [],
      "source": [
        "class CS4243_dataset(Dataset): \n",
        "    \n",
        "    \n",
        "    def __init__(self, root_path , dataframe, transform=None):\n",
        "        \n",
        "        self.label2class = {0:'normal', 1:'carrying', 2:'threat'}\n",
        "        self.df = dataframe    \n",
        "        self.transform = transform\n",
        "        self.root_path = root_path\n",
        "        \n",
        "        self.image_paths = self.df['ID'] #image names\n",
        "        self.labels = self.df['Label']\n",
        "                \n",
        "\n",
        "    def __getitem__(self, index):\n",
        "        \n",
        "        img_path = self.image_paths[index] # 没有class_file_path\n",
        "        # print(img_path)\n",
        "        class_path = self.label2class[self.labels[index]]\n",
        "        image = Image.open(os.path.join(self.root_path, class_path, img_path))\n",
        "        \n",
        "        target = torch.tensor(self.labels[index])\n",
        "      \n",
        "        if self.transform != None:\n",
        "            image = self.transform(image)\n",
        "          \n",
        "        return [image, target]\n",
        "       \n",
        "    def __len__(self):\n",
        "        return len(self.df)"
      ]
    },
    {
      "cell_type": "code",
      "execution_count": null,
      "metadata": {
        "colab": {
          "base_uri": "https://localhost:8080/"
        },
        "id": "Ko5LVELh74q8",
        "outputId": "ce76d7c4-e849-4d2e-f4c1-2912a0730cd5"
      },
      "outputs": [],
      "source": [
        "batch_size = 128\n",
        "\n",
        "train_dataset = CS4243_dataset(root_path, train_df, transform = transformations)\n",
        "train_loader = DataLoader(dataset=train_dataset, batch_size=batch_size, num_workers=2, shuffle = True, pin_memory=True)\n",
        "\n",
        "# val_dataset = CS4243_dataset(root_path, val_df, transform = transformations)\n",
        "# val_loader = DataLoader(dataset=val_dataset, batch_size=batch_size, num_workers=2, shuffle = True, pin_memory=True)\n",
        "\n",
        "test_dataset = CS4243_dataset(root_path, test_df, transform = transformations)\n",
        "test_loader = DataLoader(dataset=test_dataset, batch_size=batch_size, num_workers=2, shuffle = True, pin_memory=True)\n",
        "\n",
        "for data in train_loader:\n",
        "    imgs, targets = data\n",
        "    print(imgs.shape)\n",
        "    print('labels:', targets, len(targets))\n",
        "    # test once\n",
        "    break"
      ]
    },
    {
      "cell_type": "code",
      "execution_count": null,
      "metadata": {
        "colab": {
          "base_uri": "https://localhost:8080/",
          "height": 241
        },
        "id": "XbnmaI1teDr7",
        "outputId": "612a84f4-b7f0-4429-bee3-e52753f96808"
      },
      "outputs": [
        {
          "data": {
            "image/png": "[encoded data removed]",
            "text/plain": [
              "<PIL.Image.Image image mode=RGB size=224x224 at 0x7F8582E71310>"
            ]
          },
          "execution_count": 13,
          "metadata": {},
          "output_type": "execute_result"
        }
      ],
      "source": [
        "test = imgs[1]\n",
        "# plt.imshow( test.permute(1, 2, 0)  )\n",
        "transforms.ToPILImage()(test) # show tensor BACK to img"
      ]
    },
    {
      "cell_type": "markdown",
      "metadata": {
        "id": "rAuSKAB0aCyW"
      },
      "source": [
        "### Image Classification Models\n",
        "\n",
        "Implement image classificaiton by using:\n",
        "1. VGG as baseline\n",
        "2. Resnet18\n",
        "3. Transfer Learning\n"
      ]
    },
    {
      "cell_type": "markdown",
      "metadata": {
        "id": "JQHwgUkQy5ch"
      },
      "source": [
        "#### Baseline: CNN from scratch"
      ]
    },
    {
      "cell_type": "code",
      "execution_count": null,
      "metadata": {
        "id": "rEnKWSP204xN"
      },
      "outputs": [],
      "source": [
        "# Creating a CNN model\n",
        "class CNN(nn.Module):\n",
        "\n",
        "    def __init__(self):\n",
        "        super(CNN, self).__init__()\n",
        "\n",
        "        # === Complete the code (1.5')\n",
        "        self.conv1 = nn.Conv2d(in_channels=3, out_channels=16, kernel_size=5, stride=1, padding=1, padding_mode='zeros')\n",
        "        self.relu1 = nn.ReLU()\n",
        "        self.conv2 = nn.Conv2d(in_channels=16, out_channels=16, kernel_size=5, stride=1, padding=1, padding_mode='zeros')\n",
        "        self.relu2 = nn.ReLU()\n",
        "        self.mp1 = nn.MaxPool2d((2, 2), stride=(2, 2))\n",
        "        \n",
        "        self.conv3 = nn.Conv2d(in_channels=16, out_channels=32, kernel_size=5, stride=1, padding=1, padding_mode='zeros')\n",
        "        self.relu3 = nn.ReLU()\n",
        "        self.conv4 = nn.Conv2d(in_channels=32, out_channels=32, kernel_size=5, stride=1, padding=1, padding_mode='zeros')\n",
        "        self.relu4 = nn.ReLU()\n",
        "        self.mp2 = nn.MaxPool2d((2, 2), stride=(2, 2))\n",
        "        \n",
        "        self.conv5 = nn.Conv2d(in_channels=32, out_channels=64, kernel_size=5, stride=1, padding=1, padding_mode='zeros')\n",
        "        self.relu5 = nn.ReLU()\n",
        "        self.conv6 = nn.Conv2d(in_channels=64, out_channels=64, kernel_size=5, stride=1, padding=1, padding_mode='zeros')\n",
        "        self.relu6 = nn.ReLU()\n",
        "        self.mp3 = nn.MaxPool2d((2, 2), stride=(2, 2))\n",
        "        \n",
        "        self.conv7 = nn.Conv2d(in_channels=64, out_channels=128, kernel_size=5, stride=1, padding=1, padding_mode='zeros')\n",
        "        self.relu7 = nn.ReLU()\n",
        "        self.conv8 = nn.Conv2d(in_channels=128, out_channels=128, kernel_size=5, stride=1, padding=1, padding_mode='zeros')\n",
        "        self.relu8 = nn.ReLU()\n",
        "        \n",
        "        self.aap = nn.AdaptiveAvgPool2d(1)\n",
        "        self.linear = nn.Linear(128, 3)\n",
        "        # === Complete the code\n",
        "\n",
        "    def forward(self, x):\n",
        "        # === Complete the code (1.5')\n",
        "        x = self.conv1(x)\n",
        "        x = self.relu1(x)\n",
        "        x = self.conv2(x)\n",
        "        x = self.relu2(x)\n",
        "        x = self.mp1(x)\n",
        "        \n",
        "        x = self.conv3(x)\n",
        "        x = self.relu3(x)\n",
        "        x = self.conv4(x)\n",
        "        x = self.relu4(x)\n",
        "        x = self.mp2(x)\n",
        "        \n",
        "        x = self.conv5(x)\n",
        "        x = self.relu5(x)\n",
        "        # x = self.conv6(x)\n",
        "        # x = self.relu6(x)\n",
        "        x = self.mp3(x)\n",
        "        \n",
        "        x = self.conv7(x)\n",
        "        x = self.relu7(x)\n",
        "        # x = self.conv8(x)\n",
        "        # x = self.relu8(x)\n",
        "        \n",
        "        x = self.aap(x)\n",
        "        x = torch.flatten(x, start_dim=1, end_dim=3)\n",
        "        x = self.linear(x)\n",
        "        out = x\n",
        "        # === Complete the code\n",
        "        return out\n",
        "\n",
        "# print(cnn_model)"
      ]
    },
    {
      "cell_type": "markdown",
      "metadata": {
        "id": "QoF7UCeGbKcS"
      },
      "source": [
        "#### Baseline: LeNet-5 from scratch"
      ]
    },
    {
      "cell_type": "code",
      "execution_count": null,
      "metadata": {
        "id": "R90J2mqbqZPZ"
      },
      "outputs": [],
      "source": [
        "\n",
        "class LeNet5(nn.Module):\n",
        "\n",
        "    def __init__(self):\n",
        "        super(LeNet5, self).__init__()\n",
        "        # 1 input image channel, 6 output channels, 5x5 square convolution\n",
        "        # kernel\n",
        "        self.conv1 = nn.Conv2d(3, 6, 5)\n",
        "        self.conv2 = nn.Conv2d(6, 16, 5)\n",
        "        # an affine operation: y = Wx + b\n",
        "        self.fc1 = nn.Linear(16 * 53 * 53, 120)  # 4*4 from image dimension, 这里得改 53*53，for 224\n",
        "        self.fc2 = nn.Linear(120, 84)\n",
        "        self.fc3 = nn.Linear(84, 3)\n",
        "\n",
        "    def forward(self, x):\n",
        "        # Max pooling over a (2, 2) window\n",
        "        x = F.max_pool2d(F.relu(self.conv1(x)), (2, 2))\n",
        "        # If the size is a square, you can specify with a single number\n",
        "        x = F.max_pool2d(F.relu(self.conv2(x)), 2)\n",
        "\n",
        "        # print(x.shape)\n",
        "        # x = self.aap(x)\n",
        "        x = torch.flatten(x, 1) # flatten all dimensions except the batch dimension\n",
        "        x = F.relu(self.fc1(x))\n",
        "        x = F.relu(self.fc2(x))\n",
        "        x = self.fc3(x)\n",
        "        x = F.log_softmax(x, dim=1) # 计算log(softmax(x))\n",
        "        return x\n"
      ]
    },
    {
      "cell_type": "markdown",
      "metadata": {
        "id": "TYWVHsAZcB3X"
      },
      "source": [
        "#### Way 2: VGG from scratch\n",
        "Build a VGG"
      ]
    },
    {
      "cell_type": "code",
      "execution_count": null,
      "metadata": {
        "id": "B8jLyMHjcGHF"
      },
      "outputs": [],
      "source": [
        "class VGG_convnet(nn.Module):\n",
        "\n",
        "    def __init__(self):\n",
        "\n",
        "        super(VGG_convnet, self).__init__()\n",
        "\n",
        "        # block 1:         3 x 32 x 32 --> 64 x 16 x 16        \n",
        "        self.conv1a = nn.Conv2d(3,   64,  kernel_size=3, padding=1 )\n",
        "        self.conv1b = nn.Conv2d(64,  64,  kernel_size=3, padding=1 )\n",
        "        self.pool1  = nn.MaxPool2d(2,2)\n",
        "\n",
        "        # block 2:         64 x 16 x 16 --> 128 x 8 x 8\n",
        "        self.conv2a = nn.Conv2d(64,  128, kernel_size=3, padding=1 )\n",
        "        self.conv2b = nn.Conv2d(128, 128, kernel_size=3, padding=1 )\n",
        "        self.pool2  = nn.MaxPool2d(2,2)\n",
        "\n",
        "        # block 3:         128 x 8 x 8 --> 256 x 4 x 4        \n",
        "        self.conv3a = nn.Conv2d(128, 256, kernel_size=3, padding=1 )\n",
        "        self.conv3b = nn.Conv2d(256, 256, kernel_size=3, padding=1 )\n",
        "        self.pool3  = nn.MaxPool2d(2,2)\n",
        "        \n",
        "        #block 4:          256 x 4 x 4 --> 512 x 2 x 2\n",
        "        self.conv4a = nn.Conv2d(256, 512, kernel_size=3, padding=1 )\n",
        "        self.pool4  = nn.MaxPool2d(2,2)\n",
        "\n",
        "        # linear layers:   512 x 2 x 2 --> 2048 --> 4096 --> 4096 --> 3\n",
        "        self.linear1 = nn.Linear(2048, 4096)\n",
        "        self.linear2 = nn.Linear(4096,4096)\n",
        "        self.linear3 = nn.Linear(4096, 3)\n",
        "\n",
        "\n",
        "    def forward(self, x):\n",
        "\n",
        "        x = self.conv1a(x)\n",
        "        x = F.relu(x)\n",
        "        x = self.conv1b(x)\n",
        "        x = F.relu(x)\n",
        "        x = self.pool1(x)\n",
        "\n",
        "        x = self.conv2a(x)\n",
        "        x = F.relu(x)\n",
        "        x = self.conv2b(x)\n",
        "        x = F.relu(x)\n",
        "        x = self.pool2(x)\n",
        "\n",
        "        x = self.conv3a(x)\n",
        "        x = F.relu(x)\n",
        "        x = self.conv3b(x)\n",
        "        x = F.relu(x)\n",
        "        x = self.pool3(x)\n",
        "\n",
        "        x = self.conv4a(x)\n",
        "        x = F.relu(x)\n",
        "        x = self.pool4(x)\n",
        "\n",
        "        # x = x.view(-1, 2048)\n",
        "        x = torch.flatten(x, 1)\n",
        "        x = self.linear1(x)\n",
        "        x = F.relu(x)\n",
        "        x = self.linear2(x)\n",
        "        x = F.relu(x)\n",
        "        x = self.linear3(x) \n",
        "        \n",
        "        return x"
      ]
    },
    {
      "cell_type": "code",
      "execution_count": null,
      "metadata": {
        "id": "Nn9ItL3Ez_xt"
      },
      "outputs": [],
      "source": []
    },
    {
      "cell_type": "markdown",
      "metadata": {
        "id": "S2Q7xtQM3iHc"
      },
      "source": [
        "#### Way 3: Resnet 18"
      ]
    },
    {
      "cell_type": "code",
      "execution_count": null,
      "metadata": {
        "id": "-1UoBY3w3owT"
      },
      "outputs": [],
      "source": [
        "class Residual_block(nn.Module):\n",
        "    def __init__(self, inchannel, outchannel, stride=1):\n",
        "        super(Residual_block, self).__init__()\n",
        "        self.left = nn.Sequential(\n",
        "            nn.Conv2d(inchannel, outchannel, kernel_size=3, stride=stride, padding=1, bias=False),\n",
        "            nn.BatchNorm2d(outchannel),\n",
        "            nn.ReLU(inplace=True),\n",
        "            nn.Conv2d(outchannel, outchannel, kernel_size=3, stride=1, padding=1, bias=False),\n",
        "            nn.BatchNorm2d(outchannel)\n",
        "        )\n",
        "        self.shortcut = nn.Sequential()\n",
        "        if stride != 1 or inchannel != outchannel:\n",
        "            self.shortcut = nn.Sequential(\n",
        "                nn.Conv2d(inchannel, outchannel, kernel_size=1, stride=stride, bias=False),\n",
        "                nn.BatchNorm2d(outchannel)\n",
        "            )\n",
        "            \n",
        "    def forward(self, x):\n",
        "        out = self.left(x)\n",
        "        out = out + self.shortcut(x)\n",
        "        out = F.relu(out)\n",
        "        \n",
        "        return out\n",
        "\n",
        "class ResNet(nn.Module):\n",
        "    def __init__(self, Residual_block, num_classes=10):\n",
        "        super(ResNet, self).__init__()\n",
        "        self.inchannel = 64\n",
        "        self.conv1 = nn.Sequential(\n",
        "            nn.Conv2d(3, 64, kernel_size=3, stride=1, padding=1, bias=False),\n",
        "            nn.BatchNorm2d(64),\n",
        "            nn.ReLU()\n",
        "        )\n",
        "        self.layer1 = self.make_layer(Residual_block, 64, 2, stride=1)\n",
        "        self.layer2 = self.make_layer(Residual_block, 128, 2, stride=2)\n",
        "        self.layer3 = self.make_layer(Residual_block, 256, 2, stride=2)        \n",
        "        self.layer4 = self.make_layer(Residual_block, 512, 2, stride=2)        \n",
        "        self.fc = nn.Linear(512, num_classes)\n",
        "        \n",
        "    def make_layer(self, block, channels, num_blocks, stride):\n",
        "        strides = [stride] + [1] * (num_blocks - 1)\n",
        "        layers = []\n",
        "        for stride in strides:\n",
        "            layers.append(block(self.inchannel, channels, stride))\n",
        "            self.inchannel = channels\n",
        "        return nn.Sequential(*layers)\n",
        "    \n",
        "    def forward(self, x):\n",
        "        out = self.conv1(x)\n",
        "        out = self.layer1(out)\n",
        "        out = self.layer2(out)\n",
        "        out = self.layer3(out)\n",
        "        out = self.layer4(out)\n",
        "        out = F.avg_pool2d(out, 4)\n",
        "        out = out.view(out.size(0), -1)\n",
        "        out = self.fc(out)\n",
        "        return out\n",
        "\n",
        "def ResNet18():\n",
        "    return ResNet(Residual_block)"
      ]
    },
    {
      "cell_type": "markdown",
      "metadata": {
        "id": "h4iGqQKS2GiW"
      },
      "source": [
        "## Train"
      ]
    },
    {
      "cell_type": "code",
      "execution_count": null,
      "metadata": {
        "id": "PRoW2XWoJacb"
      },
      "outputs": [],
      "source": [
        "\n",
        "def train(model, train_loader, optimizer, criterion):\n",
        "    model.train()\n",
        "    print('===== Training =====')\n",
        "    running_loss=0\n",
        "    counter=0 # batch no\n",
        "    running_correct = 0\n",
        "    for i, data in tqdm(enumerate(train_loader), total=len(train_loader)):\n",
        "        counter += 1\n",
        "        X_train, y_train = data\n",
        "        X_train = X_train.to(device)\n",
        "        y_train = y_train.to(device)\n",
        "        optimizer.zero_grad()\n",
        "\n",
        "        # forward pass\n",
        "        outputs = model(X_train)\n",
        "        # calculate the loss\n",
        "        loss = criterion(outputs, y_train)\n",
        "        running_loss += loss.item()\n",
        "        # calculate the accuracy\n",
        "        _, preds = torch.max(outputs.data, 1)\n",
        "        running_correct += (preds == y_train).sum().item()\n",
        "        # backpropagation\n",
        "        loss.backward()\n",
        "        # update the optimizer parameters\n",
        "        optimizer.step()\n",
        "        \n",
        "        # loss and accuracy for the complete epoch\n",
        "        epoch_loss = running_loss / counter\n",
        "        \n",
        "        # acc跟当前 trained过的数量，做分母\n",
        "        batch_size = X_train.shape[0]\n",
        "        no_trained_examples = ((i+1)*batch_size)\n",
        "        epoch_acc = 100. * (running_correct / no_trained_examples)\n",
        "        \n",
        "        # output batch信息\n",
        "        batch_size = X_train.shape[0]\n",
        "        show_bt_loss_freq = len(train_df)//batch_size//3\n",
        "        if (i + 1) % show_bt_loss_freq == 0:\n",
        "            print(f\"{i+1} batches: {i+1}-batch-avg loss {epoch_loss:.6f}, train acc: {epoch_acc:.2f}%\")\n",
        "    \n",
        "    # epoch 总的计算一次\n",
        "    # len(train_loader.dataset) = 3954\n",
        "    assert len(train_loader) == counter, f\"{len(train_loader)}, {counter}\" # check no_step\n",
        "    epoch_loss = running_loss / len(train_loader) # avg loss on each batch\n",
        "    epoch_acc = 100. * (running_correct / len(train_loader.dataset))\n",
        "    return epoch_loss, epoch_acc\n",
        "\n",
        "# val/test a Epoch\n",
        "def validate(model, test_loader, criterion):\n",
        "    model.eval() # close BN and dropout layer\n",
        "    print('===== Validation =====')\n",
        "    running_loss = 0.0\n",
        "    running_correct = 0\n",
        "    \n",
        "    counter = 0 # batch \n",
        "    with torch.no_grad():\n",
        "        for i, data in tqdm(enumerate(test_loader), total=len(test_loader)):\n",
        "            counter += 1\n",
        "            \n",
        "            X_test, y_test = data\n",
        "            X_test = X_test.to(device)\n",
        "            y_test = y_test.to(device)\n",
        "            # forward pass\n",
        "            outputs = model(X_test)\n",
        "            # calculate the loss\n",
        "            loss = criterion(outputs, y_test)\n",
        "            running_loss += loss.item()\n",
        "            # calculate the accuracy\n",
        "            _, preds = torch.max(outputs.data, 1)\n",
        "            running_correct += (preds == y_test).sum().item()\n",
        "        \n",
        "    # loss and accuracy for the complete epoch\n",
        "    # print('val', running_loss, len(test_loader.dataset))\n",
        "    assert len(test_loader) == counter, f\"{len(test_loader)}, {counter}\" # check no_step\n",
        "    epoch_loss = running_loss / len(test_loader) # 样本总数/batchsize 是走完一个epoch所需的“步数”\n",
        "    epoch_acc = 100. * (running_correct / len(test_loader.dataset))\n",
        "    return epoch_loss, epoch_acc"
      ]
    },
    {
      "cell_type": "markdown",
      "metadata": {
        "id": "fgy3lNnKJbe2"
      },
      "source": [
        "### initalize Model & Hyper params"
      ]
    },
    {
      "cell_type": "code",
      "execution_count": null,
      "metadata": {
        "colab": {
          "base_uri": "https://localhost:8080/"
        },
        "id": "FDR40Q0K2nwa",
        "outputId": "03d4601e-84ff-4f40-b809-ceddafd65b57"
      },
      "outputs": [
        {
          "name": "stdout",
          "output_type": "stream",
          "text": [
            "LeNet5_convnet(\n",
            "  (conv1): Conv2d(3, 6, kernel_size=(5, 5), stride=(1, 1))\n",
            "  (conv2): Conv2d(6, 16, kernel_size=(5, 5), stride=(1, 1))\n",
            "  (fc1): Linear(in_features=44944, out_features=120, bias=True)\n",
            "  (fc2): Linear(in_features=120, out_features=84, bias=True)\n",
            "  (fc3): Linear(in_features=84, out_features=3, bias=True)\n",
            ")\n"
          ]
        }
      ],
      "source": [
        "# net=VGG_convnet()\n",
        "# net=CNN()\n",
        "net=LeNet5()\n",
        "# net = MLP()\n",
        "# net = ResNet18()\n",
        "\n",
        "print(net)\n",
        "\n",
        "# send to gpu\n",
        "net = net.to(device)\n",
        "mean = torch.FloatTensor(mean)\n",
        "mean = mean.to(device)\n",
        "std = torch.FloatTensor(std)\n",
        "std = std.to(device)"
      ]
    },
    {
      "cell_type": "code",
      "execution_count": null,
      "metadata": {
        "id": "tVuzBOyBMLe4"
      },
      "outputs": [],
      "source": []
    },
    {
      "cell_type": "code",
      "execution_count": null,
      "metadata": {
        "id": "azzgHCao0ID4"
      },
      "outputs": [],
      "source": [
        "criterion = nn.CrossEntropyLoss()\n",
        "# my_lr=0.25 \n",
        "my_lr= 1e-2 \n",
        "bs= batch_size\n",
        "epochs = 3\n",
        "\n",
        "optimizer=torch.optim.SGD(net.parameters(), lr=my_lr, momentum=0.9, weight_decay=5e-4 )\n",
        "# 必须放在for loop外面，不然loss巨大，而且无法学习！\n",
        "# optimizer = torch.optim.Adam(net.parameters(), lr=my_lr, weight_decay=5e-4)\n",
        "\n",
        "# initialize SaveBestModel class\n",
        "# 为每一组模型+超参数，创建特定存储路径\n",
        "model_name = net.__class__.__name__\n",
        "opti_name = optimizer.__class__.__name__ \n",
        "if resize_H != 224: # 如果resize不是默认的224\n",
        "    save_path = model_name + \"_\" + str(resize_H) + \",\" + str(resized_W) + \"_\" + opti_name + \"_ep\" + str(epochs) + \"_lr\" + str(my_lr)\n",
        "else:\n",
        "    save_path = model_name + \"_\" + opti_name + \"_ep\" + str(epochs) + \"_lr\" + str(my_lr)\n",
        "    \n",
        "save_best_model = SaveBestModel(save_path=save_path)"
      ]
    },
    {
      "cell_type": "code",
      "execution_count": null,
      "metadata": {
        "id": "SiEYDXHzrO0F"
      },
      "outputs": [],
      "source": []
    },
    {
      "cell_type": "code",
      "execution_count": null,
      "metadata": {
        "id": "NYyd9Ysv0X6M"
      },
      "outputs": [],
      "source": [
        "train_loss, valid_loss = [], []\n",
        "train_acc, valid_acc = [], []\n",
        "\n",
        "\n",
        "\n",
        "for epoch in range(epochs):\n",
        "    print(f\"[INFO]: Epoch {epoch+1} of {epochs}\")\n",
        "    \n",
        "    # divide the learning rate by 2 at epoch 10, 14 and 18\n",
        "    # if epoch==10 or epoch == 14 or epoch==18:\n",
        "    #     my_lr = my_lr / 2\n",
        "    \n",
        "    # give the current learning rate for the optimizer\n",
        "\n",
        "\n",
        "    train_epoch_loss, train_epoch_acc = train(net, train_loader, optimizer, criterion)\n",
        "    valid_epoch_loss, valid_epoch_acc = validate(net, test_loader, criterion)\n",
        "\n",
        "    train_loss.append(train_epoch_loss)\n",
        "    valid_loss.append(valid_epoch_loss)\n",
        "    train_acc.append(train_epoch_acc)\n",
        "    valid_acc.append(valid_epoch_acc)\n",
        "    print(f\"Epoch Training loss: {train_epoch_loss:.5f}, training acc: {train_epoch_acc:.3f}%\")\n",
        "    print(f\"Epoch Validation loss: {valid_epoch_loss:.5f}, validation acc: {valid_epoch_acc:.3f}%\")\n",
        "    # save the best net:\n",
        "    save_best_model(\n",
        "        valid_epoch_loss, epoch, net, optimizer, criterion\n",
        "    )\n",
        "    print('-'*50)\n",
        "\n",
        "print(f'The best minimal val loss is {save_best_model.best_valid_loss}')\n",
        "    \n",
        "# save the trained net weights for a final time - need to submit this with the poster\n",
        "save_model(epochs, net, optimizer, criterion, save_path=save_path)\n",
        "save_plots(train_acc, valid_acc, train_loss, valid_loss, model_name=model_name, optimizer=opti_name, save_path=save_path)\n",
        "print('TRAINING COMPLETE')\n"
      ]
    },
    {
      "cell_type": "markdown",
      "metadata": {
        "id": "CY9XHfD4y8yD"
      },
      "source": [
        "## Prediction / Evaluation \n",
        "\n",
        "Evaluation by using:\n",
        "1. accurancy, precision and recall (PR curve)\n",
        "2. confusion matrix (visualised)\n",
        "3. ROC (optional)"
      ]
    },
    {
      "cell_type": "code",
      "execution_count": null,
      "metadata": {
        "id": "uBPB0tHgb-Lq"
      },
      "outputs": [],
      "source": [
        "# load the best model checkpoint\n",
        "best_model_cp = torch.load(f'{save_path}/best_model.pth')\n",
        "best_model_epoch = best_model_cp['epoch']\n",
        "print(f\"Best model was saved at {best_model_epoch} epochs\\n\")\n",
        "\n",
        "# load the last model checkpoint\n",
        "last_model_cp = torch.load(f'{save_path}/final_model.pth')\n",
        "last_model_epoch = last_model_cp['epoch']\n",
        "print(f\"Last model was saved at {last_model_epoch} epochs\\n\")"
      ]
    },
    {
      "cell_type": "code",
      "execution_count": null,
      "metadata": {
        "id": "5SJqrn2IcJBR"
      },
      "outputs": [],
      "source": [
        "def test(model, test_loader):\n",
        "    model.eval()\n",
        "    print('===== Testing =====')\n",
        "    valid_running_correct = 0\n",
        "    counter = 0 # batch no\n",
        "    nb_classes = 3\n",
        "    confusion_matrix = torch.zeros(nb_classes, nb_classes)\n",
        "\n",
        "    y_pred = []\n",
        "    y_true = []\n",
        "    with torch.no_grad():\n",
        "        for i, data in tqdm(enumerate(test_loader), total=len(test_loader)):\n",
        "            counter += 1\n",
        "            \n",
        "            X_test, y_test = data\n",
        "            X_test = X_test.to(device)\n",
        "            y_test = y_test.to(device)\n",
        "            # forward pass\n",
        "            outputs = model(X_test)\n",
        "            \n",
        "            # calculate the accuracy\n",
        "            _, preds = torch.max(outputs.data, 1)\n",
        "            valid_running_correct += (preds == y_test).sum().item()\n",
        "            # 记录下 y_true和y\n",
        "            y_pred += list(np.array(preds))\n",
        "            y_true += list(np.array(y_test))\n",
        "            \n",
        "            # get true and predict:\n",
        "            for t, p in zip(y_test.view(-1), preds.view(-1)):\n",
        "                confusion_matrix[t.long(), p.long()] += 1\n",
        "        \n",
        "    # loss and accuracy for the complete epoch\n",
        "    final_acc = 100. * (valid_running_correct / len(test_loader.dataset))\n",
        "    return final_acc, confusion_matrix, y_pred, y_true\n",
        "\n",
        "\n",
        "def round_np_float(scalar, digit: int):\n",
        "    return np.around(scalar, digit)\n",
        "\n",
        "# 计算 混淆矩阵的，precision，recall\n",
        "\n",
        "def draw_PRF1_table(precision,recall,fscore, weighted_PRF1, title='Bestmodel'):\n",
        "    class0_p, class0_r, class0_f1= precision[0], precision[1], precision[2]\n",
        "    print(f\"Class Normal: Precision: {class0_p*100:.3f}%, Recall: {class0_r*100:.3f}%, F1score:{class0_f1*100:.3f}%\")\n",
        "    class1_p, class1_r, class1_f1 = recall[0], recall[1], recall[2]\n",
        "    print(f\"Class Carrying: Precision: {class1_p*100:.3f}%, Recall: {class1_r*100:.3f}%, F1score:{class1_f1*100:.3f}%\")\n",
        "    class2_p, class2_r, class2_f1 = fscore[0], fscore[1], fscore[2]\n",
        "    print(f\"Class Threat: Precision: {class2_p*100:.3f}%, Recall: {class2_r*100:.3f}%, F1score:{class2_f1*100:.3f}%\")\n",
        "\n",
        "    \n",
        "    # round to precision float: 4digits\n",
        "    precision = round_np_float(precision, 4)\n",
        "    recall = round_np_float(recall, 4)\n",
        "    fscore = round_np_float(fscore, 4)\n",
        "    weighted_PRF1 = round_np_float(weighted_PRF1, 4)\n",
        "    #列名\n",
        "    col= [\"Precision\", \"Recall\", \"F1 score\"]\n",
        "    #行名: \n",
        "    row= [k + \":\" + str(v) for k, v in class2label.items()] + ['Overall Weighted']\n",
        "\n",
        "    vals = np.vstack((precision, recall, fscore, weighted_PRF1))\n",
        "    plt.figure(figsize=(6,4))\n",
        "    tab = plt.table(cellText=vals, \n",
        "                colLabels=col, \n",
        "                rowLabels=row,\n",
        "                loc='center', \n",
        "                cellLoc='center',\n",
        "                rowLoc='center')\n",
        "    tab.scale(1,6) \n",
        "    plt.axis('off')\n",
        "    print(f\"save as {save_path}/{title}_PRF1score.png\")\n",
        "    plt.savefig(f'{save_path}/{title}_PRF1score.png')"
      ]
    },
    {
      "cell_type": "code",
      "execution_count": null,
      "metadata": {
        "id": "iRQ0VP1VB1d2"
      },
      "outputs": [],
      "source": [
        "# test two ckpts\n",
        "\n",
        "def test_last_model(model, checkpoint, test_loader):\n",
        "    print('Loading last epoch saved model weights...')\n",
        "    model.load_state_dict(checkpoint['model_state_dict'])\n",
        "    test_acc, confusion_matrix, y_pred, y_true = test(model, test_loader)\n",
        "    print(f\"Last epoch saved model accuracy: {test_acc:.3f}\")\n",
        "    creat_viz_cm(confusion_matrix, label2class, title='Finalmodel', save_path=save_path)\n",
        "    \n",
        "    # 计算precesion recall f1score for EACH class\n",
        "    precision,recall,fscore, _ = precision_recall_fscore_support(y_true, y_pred, average=None, labels=class_int)\n",
        "    # and overall 整体的 \"weighted\" precesion recall f1score\n",
        "    '''\n",
        "    weihgted给不同类别不同权重（权重根据该类别的真实分布比例确定），每个类别乘权重后再进行相加。\n",
        "    该方法考虑了类别不平衡情况，它的值更容易受到常见类（majority class）的影响(但咱虽然【不平衡，但没有明显majority class】)。\n",
        "    '''\n",
        "    weighted_PRF1 = precision_recall_fscore_support(y_true, y_pred, average='weighted')[:3]\n",
        "    # 画表\n",
        "    draw_PRF1_table(precision,recall,fscore, weighted_PRF1, title='Finalmodel')\n",
        "    return confusion_matrix, weighted_PRF1\n",
        "\n",
        "# test the best epoch saved model\n",
        "def test_best_model(model, checkpoint, test_loader):\n",
        "    print('Loading best epoch saved model weights...')\n",
        "    model.load_state_dict(checkpoint['model_state_dict'])\n",
        "    test_acc, confusion_matrix, y_pred, y_true = test(model, test_loader)\n",
        "    print(f\"Best epoch saved model accuracy: {test_acc:.3f}\")\n",
        "    creat_viz_cm(confusion_matrix, label2class, title='Bestmodel', save_path=save_path)\n",
        "    # 计算precesion recall f1score for EACH class\n",
        "    precision,recall,fscore, _ = precision_recall_fscore_support(y_true, y_pred, average=None, labels=class_int)\n",
        "    # and overall 整体的 \"weighted\" precesion recall f1score\n",
        "    '''\n",
        "    weihgted给不同类别不同权重（权重根据该类别的真实分布比例确定），每个类别乘权重后再进行相加。\n",
        "    该方法考虑了类别不平衡情况，它的值更容易受到常见类（majority class）的影响(但咱虽然【不平衡，但没有明显majority class!】)。\n",
        "    '''\n",
        "    weighted_PRF1 = precision_recall_fscore_support(y_true, y_pred, average='weighted')[:3]\n",
        "    # 画表\n",
        "    draw_PRF1_table(precision, recall, fscore, weighted_PRF1, title='Bestmodel')\n",
        "    return confusion_matrix, weighted_PRF1\n",
        "    "
      ]
    },
    {
      "cell_type": "code",
      "execution_count": null,
      "metadata": {
        "id": "B3Ra82A5B1We"
      },
      "outputs": [],
      "source": [
        "# run test\n",
        "test_last_model(net, last_model_cp, test_loader)\n",
        "print()\n",
        "test_best_model(net, best_model_cp, test_loader);"
      ]
    },
    {
      "cell_type": "code",
      "execution_count": null,
      "metadata": {
        "id": "AOkt3BaFIEw0"
      },
      "outputs": [],
      "source": []
    },
    {
      "cell_type": "code",
      "execution_count": null,
      "metadata": {
        "id": "tVNSCvoDIEoq"
      },
      "outputs": [],
      "source": []
    },
    {
      "cell_type": "code",
      "execution_count": null,
      "metadata": {
        "id": "bpEJmPk0B1UA"
      },
      "outputs": [],
      "source": []
    },
    {
      "cell_type": "code",
      "execution_count": null,
      "metadata": {
        "id": "wwZZeCSbB1KL"
      },
      "outputs": [],
      "source": []
    },
    {
      "cell_type": "code",
      "execution_count": null,
      "metadata": {
        "id": "SkEC8GFS2iI3"
      },
      "outputs": [],
      "source": []
    },
    {
      "cell_type": "code",
      "execution_count": null,
      "metadata": {
        "id": "YmXsuMrmaR1m"
      },
      "outputs": [],
      "source": []
    },
    {
      "cell_type": "code",
      "execution_count": null,
      "metadata": {
        "id": "8G5cwE4paW-S"
      },
      "outputs": [],
      "source": []
    },
    {
      "cell_type": "markdown",
      "metadata": {
        "id": "Z1L8oNCwaXfm"
      },
      "source": []
    }
  ],
  "metadata": {
    "accelerator": "GPU",
    "colab": {
      "collapsed_sections": [
        "TYWVHsAZcB3X"
      ],
      "include_colab_link": true,
      "provenance": []
    },
    "gpuClass": "standard",
    "kernelspec": {
      "display_name": "Python 3.8.13 ('d2l')",
      "language": "python",
      "name": "python3"
    },
    "language_info": {
      "codemirror_mode": {
        "name": "ipython",
        "version": 3
      },
      "file_extension": ".py",
      "mimetype": "text/x-python",
      "name": "python",
      "nbconvert_exporter": "python",
      "pygments_lexer": "ipython3",
      "version": "3.8.13"
    },
    "vscode": {
      "interpreter": {
        "hash": "9a14068495a7f442070bfa310febced32f3fbaeba46f4878ed5681604454db8e"
      }
    },
    "widgets": {
      "application/vnd.jupyter.widget-state+json": {
        "0f32b89aee684497aeda207ea4168afb": {
          "model_module": "@jupyter-widgets/controls",
          "model_module_version": "1.5.0",
          "model_name": "HTMLModel",
          "state": {
            "_dom_classes": [],
            "_model_module": "@jupyter-widgets/controls",
            "_model_module_version": "1.5.0",
            "_model_name": "HTMLModel",
            "_view_count": null,
            "_view_module": "@jupyter-widgets/controls",
            "_view_module_version": "1.5.0",
            "_view_name": "HTMLView",
            "description": "",
            "description_tooltip": null,
            "layout": "IPY_MODEL_a217e1bf7c1144449e17af9deb1be2b3",
            "placeholder": "​",
            "style": "IPY_MODEL_94dd1f666dfb401c972d62063d271db8",
            "value": "100%"
          }
        },
        "30059e7f76554edeaebfde0ed47cb22d": {
          "model_module": "@jupyter-widgets/controls",
          "model_module_version": "1.5.0",
          "model_name": "HBoxModel",
          "state": {
            "_dom_classes": [],
            "_model_module": "@jupyter-widgets/controls",
            "_model_module_version": "1.5.0",
            "_model_name": "HBoxModel",
            "_view_count": null,
            "_view_module": "@jupyter-widgets/controls",
            "_view_module_version": "1.5.0",
            "_view_name": "HBoxView",
            "box_style": "",
            "children": [
              "IPY_MODEL_0f32b89aee684497aeda207ea4168afb",
              "IPY_MODEL_51ed36da4009415eb75ea2e10b540dfc",
              "IPY_MODEL_74fdfbff676e4c3c830f45592759cc47"
            ],
            "layout": "IPY_MODEL_582f0ee5e71a49aba6e4cf92e4fa5159"
          }
        },
        "51ed36da4009415eb75ea2e10b540dfc": {
          "model_module": "@jupyter-widgets/controls",
          "model_module_version": "1.5.0",
          "model_name": "FloatProgressModel",
          "state": {
            "_dom_classes": [],
            "_model_module": "@jupyter-widgets/controls",
            "_model_module_version": "1.5.0",
            "_model_name": "FloatProgressModel",
            "_view_count": null,
            "_view_module": "@jupyter-widgets/controls",
            "_view_module_version": "1.5.0",
            "_view_name": "ProgressView",
            "bar_style": "success",
            "description": "",
            "description_tooltip": null,
            "layout": "IPY_MODEL_c35923bf34be437cb4057856dd450651",
            "max": 46830571,
            "min": 0,
            "orientation": "horizontal",
            "style": "IPY_MODEL_eebff500f8174452a20b5f7afbaae825",
            "value": 46830571
          }
        },
        "56fd522c16f5433ca34dc92971b713d5": {
          "model_module": "@jupyter-widgets/base",
          "model_module_version": "1.2.0",
          "model_name": "LayoutModel",
          "state": {
            "_model_module": "@jupyter-widgets/base",
            "_model_module_version": "1.2.0",
            "_model_name": "LayoutModel",
            "_view_count": null,
            "_view_module": "@jupyter-widgets/base",
            "_view_module_version": "1.2.0",
            "_view_name": "LayoutView",
            "align_content": null,
            "align_items": null,
            "align_self": null,
            "border": null,
            "bottom": null,
            "display": null,
            "flex": null,
            "flex_flow": null,
            "grid_area": null,
            "grid_auto_columns": null,
            "grid_auto_flow": null,
            "grid_auto_rows": null,
            "grid_column": null,
            "grid_gap": null,
            "grid_row": null,
            "grid_template_areas": null,
            "grid_template_columns": null,
            "grid_template_rows": null,
            "height": null,
            "justify_content": null,
            "justify_items": null,
            "left": null,
            "margin": null,
            "max_height": null,
            "max_width": null,
            "min_height": null,
            "min_width": null,
            "object_fit": null,
            "object_position": null,
            "order": null,
            "overflow": null,
            "overflow_x": null,
            "overflow_y": null,
            "padding": null,
            "right": null,
            "top": null,
            "visibility": null,
            "width": null
          }
        },
        "582f0ee5e71a49aba6e4cf92e4fa5159": {
          "model_module": "@jupyter-widgets/base",
          "model_module_version": "1.2.0",
          "model_name": "LayoutModel",
          "state": {
            "_model_module": "@jupyter-widgets/base",
            "_model_module_version": "1.2.0",
            "_model_name": "LayoutModel",
            "_view_count": null,
            "_view_module": "@jupyter-widgets/base",
            "_view_module_version": "1.2.0",
            "_view_name": "LayoutView",
            "align_content": null,
            "align_items": null,
            "align_self": null,
            "border": null,
            "bottom": null,
            "display": null,
            "flex": null,
            "flex_flow": null,
            "grid_area": null,
            "grid_auto_columns": null,
            "grid_auto_flow": null,
            "grid_auto_rows": null,
            "grid_column": null,
            "grid_gap": null,
            "grid_row": null,
            "grid_template_areas": null,
            "grid_template_columns": null,
            "grid_template_rows": null,
            "height": null,
            "justify_content": null,
            "justify_items": null,
            "left": null,
            "margin": null,
            "max_height": null,
            "max_width": null,
            "min_height": null,
            "min_width": null,
            "object_fit": null,
            "object_position": null,
            "order": null,
            "overflow": null,
            "overflow_x": null,
            "overflow_y": null,
            "padding": null,
            "right": null,
            "top": null,
            "visibility": null,
            "width": null
          }
        },
        "74fdfbff676e4c3c830f45592759cc47": {
          "model_module": "@jupyter-widgets/controls",
          "model_module_version": "1.5.0",
          "model_name": "HTMLModel",
          "state": {
            "_dom_classes": [],
            "_model_module": "@jupyter-widgets/controls",
            "_model_module_version": "1.5.0",
            "_model_name": "HTMLModel",
            "_view_count": null,
            "_view_module": "@jupyter-widgets/controls",
            "_view_module_version": "1.5.0",
            "_view_name": "HTMLView",
            "description": "",
            "description_tooltip": null,
            "layout": "IPY_MODEL_56fd522c16f5433ca34dc92971b713d5",
            "placeholder": "​",
            "style": "IPY_MODEL_9d624b2e9ea14d87ad56380ba0f6b9c6",
            "value": " 44.7M/44.7M [00:00&lt;00:00, 152MB/s]"
          }
        },
        "94dd1f666dfb401c972d62063d271db8": {
          "model_module": "@jupyter-widgets/controls",
          "model_module_version": "1.5.0",
          "model_name": "DescriptionStyleModel",
          "state": {
            "_model_module": "@jupyter-widgets/controls",
            "_model_module_version": "1.5.0",
            "_model_name": "DescriptionStyleModel",
            "_view_count": null,
            "_view_module": "@jupyter-widgets/base",
            "_view_module_version": "1.2.0",
            "_view_name": "StyleView",
            "description_width": ""
          }
        },
        "9d624b2e9ea14d87ad56380ba0f6b9c6": {
          "model_module": "@jupyter-widgets/controls",
          "model_module_version": "1.5.0",
          "model_name": "DescriptionStyleModel",
          "state": {
            "_model_module": "@jupyter-widgets/controls",
            "_model_module_version": "1.5.0",
            "_model_name": "DescriptionStyleModel",
            "_view_count": null,
            "_view_module": "@jupyter-widgets/base",
            "_view_module_version": "1.2.0",
            "_view_name": "StyleView",
            "description_width": ""
          }
        },
        "a217e1bf7c1144449e17af9deb1be2b3": {
          "model_module": "@jupyter-widgets/base",
          "model_module_version": "1.2.0",
          "model_name": "LayoutModel",
          "state": {
            "_model_module": "@jupyter-widgets/base",
            "_model_module_version": "1.2.0",
            "_model_name": "LayoutModel",
            "_view_count": null,
            "_view_module": "@jupyter-widgets/base",
            "_view_module_version": "1.2.0",
            "_view_name": "LayoutView",
            "align_content": null,
            "align_items": null,
            "align_self": null,
            "border": null,
            "bottom": null,
            "display": null,
            "flex": null,
            "flex_flow": null,
            "grid_area": null,
            "grid_auto_columns": null,
            "grid_auto_flow": null,
            "grid_auto_rows": null,
            "grid_column": null,
            "grid_gap": null,
            "grid_row": null,
            "grid_template_areas": null,
            "grid_template_columns": null,
            "grid_template_rows": null,
            "height": null,
            "justify_content": null,
            "justify_items": null,
            "left": null,
            "margin": null,
            "max_height": null,
            "max_width": null,
            "min_height": null,
            "min_width": null,
            "object_fit": null,
            "object_position": null,
            "order": null,
            "overflow": null,
            "overflow_x": null,
            "overflow_y": null,
            "padding": null,
            "right": null,
            "top": null,
            "visibility": null,
            "width": null
          }
        },
        "c35923bf34be437cb4057856dd450651": {
          "model_module": "@jupyter-widgets/base",
          "model_module_version": "1.2.0",
          "model_name": "LayoutModel",
          "state": {
            "_model_module": "@jupyter-widgets/base",
            "_model_module_version": "1.2.0",
            "_model_name": "LayoutModel",
            "_view_count": null,
            "_view_module": "@jupyter-widgets/base",
            "_view_module_version": "1.2.0",
            "_view_name": "LayoutView",
            "align_content": null,
            "align_items": null,
            "align_self": null,
            "border": null,
            "bottom": null,
            "display": null,
            "flex": null,
            "flex_flow": null,
            "grid_area": null,
            "grid_auto_columns": null,
            "grid_auto_flow": null,
            "grid_auto_rows": null,
            "grid_column": null,
            "grid_gap": null,
            "grid_row": null,
            "grid_template_areas": null,
            "grid_template_columns": null,
            "grid_template_rows": null,
            "height": null,
            "justify_content": null,
            "justify_items": null,
            "left": null,
            "margin": null,
            "max_height": null,
            "max_width": null,
            "min_height": null,
            "min_width": null,
            "object_fit": null,
            "object_position": null,
            "order": null,
            "overflow": null,
            "overflow_x": null,
            "overflow_y": null,
            "padding": null,
            "right": null,
            "top": null,
            "visibility": null,
            "width": null
          }
        },
        "eebff500f8174452a20b5f7afbaae825": {
          "model_module": "@jupyter-widgets/controls",
          "model_module_version": "1.5.0",
          "model_name": "ProgressStyleModel",
          "state": {
            "_model_module": "@jupyter-widgets/controls",
            "_model_module_version": "1.5.0",
            "_model_name": "ProgressStyleModel",
            "_view_count": null,
            "_view_module": "@jupyter-widgets/base",
            "_view_module_version": "1.2.0",
            "_view_name": "StyleView",
            "bar_color": null,
            "description_width": ""
          }
        }
      }
    }
  },
  "nbformat": 4,
  "nbformat_minor": 0
}
